{
 "cells": [
  {
   "cell_type": "markdown",
   "id": "2197c930",
   "metadata": {},
   "source": [
    "# Financial Analyst Chatbot\n"
   ]
  },
  {
   "cell_type": "markdown",
   "id": "ce6134c2",
   "metadata": {},
   "source": [
    "## Overview\n",
    "\n",
    "RAG-powered chatbot that enables natural language querying of BNP Paribas Q2 2025 earnings data, providing instant access to financial metrics and insights from earnings calls and press releases.\n",
    "\n",
    "## Business Use Case\n",
    "\n",
    "Financial analysts spend hours manually extracting insights from lengthy earnings reports. This solution reduces analysis time from hours to minutes while maintaining accuracy and providing full source traceability for compliance.\n",
    "\n",
    "## Notebook Steps\n",
    "\n",
    "1. **Environment Setup** - Install dependencies and configure Mistral API\n",
    "2. **Document Processing** - Load and chunk BNP earnings documents\n",
    "3. **Vector Database Creation** - Generate embeddings and build FAISS index\n",
    "4. **RAG Pipeline Implementation** - Build retrieval and generation components\n",
    "5. **Interactive Testing** - Query the system and validate responses with source citations\n"
   ]
  },
  {
   "cell_type": "markdown",
   "id": "b183ece6",
   "metadata": {},
   "source": [
    "## Environment Setup\n"
   ]
  },
  {
   "cell_type": "markdown",
   "id": "ef2ef744",
   "metadata": {},
   "source": [
    "Let's install all required libraries for this project\n"
   ]
  },
  {
   "cell_type": "code",
   "execution_count": 8,
   "id": "a0dd6014",
   "metadata": {},
   "outputs": [
    {
     "data": {
      "text/plain": [
       "True"
      ]
     },
     "execution_count": 8,
     "metadata": {},
     "output_type": "execute_result"
    }
   ],
   "source": [
    "from dotenv import load_dotenv\n",
    "import os\n",
    "import requests\n",
    "from mistralai import Mistral\n",
    "import numpy as np\n",
    "\n",
    "load_dotenv()"
   ]
  },
  {
   "cell_type": "markdown",
   "id": "9e0385d3",
   "metadata": {},
   "source": [
    "Configure the Mistral AI API KEY\n"
   ]
  },
  {
   "cell_type": "code",
   "execution_count": null,
   "id": "261c4a54",
   "metadata": {},
   "outputs": [],
   "source": [
    "# if you have a .env file with MISTRAL_API key\n",
    "MISTRAL_API_KEY = os.getenv(\"MISTRAL_API\")\n",
    "\n",
    "# MISTRAL_API_KEY = \"\"\n",
    "\n",
    "\n",
    "client = Mistral(api_key=MISTRAL_API_KEY)"
   ]
  },
  {
   "cell_type": "markdown",
   "id": "2f5b9c18",
   "metadata": {},
   "source": [
    "## Document Processing\n"
   ]
  },
  {
   "cell_type": "markdown",
   "id": "6a08ed70",
   "metadata": {},
   "source": [
    "### Data Ingestion\n"
   ]
  },
  {
   "cell_type": "markdown",
   "id": "f57e6562",
   "metadata": {},
   "source": [
    "We process three key BNP Paribas Q2 2025 documents: the earnings call transcript and press release materials (split into text content and financial statements for optimized processing). Using LangChain's PyPDFLoader, we extract text while preserving crucial metadata like source attribution and page numbers, essential for providing accurate citations in our RAG responses.\n"
   ]
  },
  {
   "cell_type": "code",
   "execution_count": null,
   "id": "1eb53c49",
   "metadata": {},
   "outputs": [],
   "source": [
    "from langchain_community.document_loaders import PyPDFLoader\n",
    "from pathlib import Path\n",
    "\n",
    "docs = []\n",
    "data_dir = Path(\"data\")\n",
    "file_map = {\n",
    "    \"2Q25_PressRelease_Graphs.pdf\": \"BNP 2Q25 Press Release Graphs\",\n",
    "    \"2Q25_call_transcript.pdf\": \"BNP 2Q25 Earnings Call Transcript\",\n",
    "    \"2Q25_PressRelease.pdf\": \"BNP 2Q25 Press Release\",\n",
    "}\n",
    "\n",
    "for file_name, source_name in file_map.items():\n",
    "    file_path = data_dir / file_name\n",
    "    loader = PyPDFLoader(str(file_path))\n",
    "    loaded_docs = loader.load()\n",
    "    for doc in loaded_docs:\n",
    "        doc.metadata[\"source\"] = source_name\n",
    "    docs.extend(loaded_docs)"
   ]
  },
  {
   "cell_type": "markdown",
   "id": "540e6ca5",
   "metadata": {},
   "source": [
    "### Chunk Documents\n"
   ]
  },
  {
   "cell_type": "markdown",
   "id": "ba6f8702",
   "metadata": {},
   "source": [
    "We implement a recursive character-based chunking strategy optimized for financial document structure and retrieval performance.\n",
    "\n",
    "**Chunking Strategy Rationale:**\n",
    "\n",
    "- **Chunk size (1200 chars)**: Optimal balance for financial documents -> captures complete financial statements and contextual paragraphs without exceeding token limits\n",
    "- **Overlap (200 chars)**: Ensures critical information spanning chunk boundaries (like multi-line financial metrics) isn't lost during retrieval\n",
    "- **Hierarchical separators**: Prioritizes natural document structure - paragraphs first, then sentences, then words - maintaining semantic coherence in financial content\n",
    "\n",
    "**Note:** This approach works well for our demo, but production systems could benefit from advanced techniques like semantic chunking or domain-specific boundary detection for enhanced retrieval accuracy.\n"
   ]
  },
  {
   "cell_type": "code",
   "execution_count": null,
   "id": "f005bb68",
   "metadata": {},
   "outputs": [
    {
     "name": "stdout",
     "output_type": "stream",
     "text": [
      "Total chunks created: 151\n",
      "Sample chunk metadata: {'producer': 'PDFium', 'creator': 'PDFium', 'creationdate': 'D:20250809105600', 'source': 'BNP 2Q25 Press Release Graphs', 'total_pages': 4, 'page': 0, 'page_label': '1'}\n",
      "Sources found in chunks:\n",
      "  - BNP 2Q25 Press Release: 75 chunks\n",
      "  - BNP 2Q25 Earnings Call Transcript: 67 chunks\n",
      "  - BNP 2Q25 Press Release Graphs: 9 chunks\n"
     ]
    }
   ],
   "source": [
    "from langchain_text_splitters import RecursiveCharacterTextSplitter\n",
    "\n",
    "splitter = RecursiveCharacterTextSplitter(\n",
    "    chunk_size=1200,\n",
    "    chunk_overlap=200,\n",
    "    separators=[\"\\n\\n\", \"\\n\", \" \", \"\", \".\", \"?\", \"!\"],\n",
    ")\n",
    "chunks = splitter.split_documents(docs)  # This preserves metadata from docs\n",
    "\n",
    "# Verify metadata is preserved\n",
    "print(f\"Total chunks created: {len(chunks)}\")\n",
    "print(f\"Sample chunk metadata: {chunks[0].metadata}\")\n",
    "print(\"Sources found in chunks:\")\n",
    "for source in set(chunk.metadata.get(\"source\", \"Unknown\") for chunk in chunks):\n",
    "    count = sum(1 for chunk in chunks if chunk.metadata.get(\"source\") == source)\n",
    "    print(f\"  - {source}: {count} chunks\")"
   ]
  },
  {
   "cell_type": "markdown",
   "id": "eb91b7d2",
   "metadata": {},
   "source": [
    "## Vector Index Creation\n"
   ]
  },
  {
   "cell_type": "markdown",
   "id": "5e3be1d2",
   "metadata": {},
   "source": [
    "### Embedding our Data\n"
   ]
  },
  {
   "cell_type": "markdown",
   "id": "7f55588d",
   "metadata": {},
   "source": [
    "We generate vector embeddings using Mistral's embedding model to enable semantic similarity search across our financial document chunks.\n",
    "\n",
    "**Rate Limiting Strategy:** The custom retry function addresses Mistral API rate limits by implementing batch processing and exponential backoff with jitter, ensuring reliable embedding generation without manual intervention during processing.\n"
   ]
  },
  {
   "cell_type": "code",
   "execution_count": null,
   "id": "a350946e",
   "metadata": {},
   "outputs": [
    {
     "name": "stdout",
     "output_type": "stream",
     "text": [
      "Processing 151 chunks in batches...\n",
      "Successfully processed 151 embeddings\n"
     ]
    }
   ],
   "source": [
    "import time\n",
    "import random\n",
    "from typing import List\n",
    "\n",
    "\n",
    "def get_embeddings_with_retry(\n",
    "    inputs: List[str], max_retries: int = 5, batch_size: int = 10\n",
    "):\n",
    "    \"\"\"\n",
    "    Get embeddings with exponential backoff retry and batch processing\n",
    "    \"\"\"\n",
    "    all_embeddings = []\n",
    "\n",
    "    # Process in batches to reduce API calls\n",
    "    for i in range(0, len(inputs), batch_size):\n",
    "        batch = inputs[i : i + batch_size]\n",
    "\n",
    "        for attempt in range(max_retries):\n",
    "            try:\n",
    "                # Make API call for the batch\n",
    "                embeddings_batch_response = client.embeddings.create(\n",
    "                    model=\"mistral-embed\", inputs=batch\n",
    "                )\n",
    "\n",
    "                # Extract embeddings from response\n",
    "                batch_embeddings = [\n",
    "                    item.embedding for item in embeddings_batch_response.data\n",
    "                ]\n",
    "                all_embeddings.extend(batch_embeddings)\n",
    "                break\n",
    "\n",
    "            except Exception as e:\n",
    "                if \"rate_limited\" in str(e) or \"429\" in str(e):\n",
    "                    if attempt < max_retries - 1:\n",
    "                        # Exponential backoff with jitter\n",
    "                        wait_time = (2**attempt) + random.uniform(0, 1)\n",
    "                        print(\n",
    "                            f\"Rate limited. Waiting {wait_time:.1f}s before retry {attempt + 1}/{max_retries}\"\n",
    "                        )\n",
    "                        time.sleep(wait_time)\n",
    "                    else:\n",
    "                        print(f\"Max retries exceeded for batch starting at index {i}\")\n",
    "                        raise e\n",
    "                else:\n",
    "                    print(f\"Non-rate-limit error: {e}\")\n",
    "                    raise e\n",
    "\n",
    "        # Small delay between batches\n",
    "        if i + batch_size < len(inputs):\n",
    "            time.sleep(0.5)\n",
    "\n",
    "    print(f\"Successfully processed {len(all_embeddings)} embeddings\")\n",
    "\n",
    "    return all_embeddings\n",
    "\n",
    "\n",
    "# Convert chunks to text list\n",
    "chunk_texts = [chunk.page_content for chunk in chunks]\n",
    "\n",
    "print(f\"Processing {len(chunk_texts)} chunks in batches...\")\n",
    "embeddings_list = get_embeddings_with_retry(chunk_texts, batch_size=8)\n",
    "text_embeddings = np.array(embeddings_list)"
   ]
  },
  {
   "cell_type": "markdown",
   "id": "11022744",
   "metadata": {},
   "source": [
    "## Vector Index Creation & Test\n"
   ]
  },
  {
   "cell_type": "markdown",
   "id": "6537015a",
   "metadata": {},
   "source": [
    "We create a FAISS index to enable fast semantic similarity queries across our embedded document chunks.\n"
   ]
  },
  {
   "cell_type": "code",
   "execution_count": null,
   "id": "14c23edf",
   "metadata": {},
   "outputs": [],
   "source": [
    "import faiss\n",
    "\n",
    "\n",
    "# Build vector search index for semantic similarity\n",
    "\n",
    "embedding_dimension = text_embeddings.shape[1]\n",
    "\n",
    "similarity_index = faiss.IndexFlatL2(embedding_dimension)\n",
    "\n",
    "similarity_index.add(text_embeddings)"
   ]
  },
  {
   "cell_type": "markdown",
   "id": "5f913f84",
   "metadata": {},
   "source": [
    "Export the faiss index for Demo Application\n"
   ]
  },
  {
   "cell_type": "code",
   "execution_count": null,
   "id": "8890be47",
   "metadata": {},
   "outputs": [],
   "source": [
    "# Export FAISS Index and Chunks for Streamlit App\n",
    "import pickle\n",
    "import os\n",
    "\n",
    "# Create exports directory\n",
    "os.makedirs(\"faiss_index\", exist_ok=True)\n",
    "\n",
    "# Export FAISS index\n",
    "faiss.write_index(similarity_index, \"faiss_index/faiss_index.bin\")\n",
    "print(\"✅ Exported FAISS index to faiss_index/faiss_index.bin\")\n",
    "\n",
    "# Export chunks with text content and metadata (needed for RAG)\n",
    "with open(\"faiss_index/chunks.pkl\", \"wb\") as f:\n",
    "    pickle.dump(chunks, f)\n",
    "print(\"✅ Exported chunks to faiss_index/chunks.pkl\")"
   ]
  },
  {
   "cell_type": "markdown",
   "id": "1e1ec5f9",
   "metadata": {},
   "source": [
    "### Retrieval & Source Attribution\n"
   ]
  },
  {
   "cell_type": "markdown",
   "id": "a2c95881",
   "metadata": {},
   "source": [
    "We implement semantic search to find the most relevant document chunks and format them with complete source attribution for accurate citations.\n",
    "\n",
    "**Retrieval Process:**\n",
    "\n",
    "- **Query embedding**: Convert user question to vector using same Mistral Embed model for consistency\n",
    "- **Similarity search**: FAISS L2 distance search returns top-k most semantically similar chunks (k=5)\n",
    "- **Metadata preservation**: Each retrieved chunk maintains source document, page number, and content information\n",
    "- **Structured formatting**: Chunks formatted with clear source attribution (document name + page) for citation transparency\n",
    "\n",
    "**Citation Strategy:** The formatted output provides complete traceability from answer back to source document and specific page, essential for financial compliance and fact-checking requirements in enterprise environments.\n"
   ]
  },
  {
   "cell_type": "code",
   "execution_count": null,
   "id": "c7d8541b",
   "metadata": {},
   "outputs": [
    {
     "name": "stdout",
     "output_type": "stream",
     "text": [
      "Successfully processed 1 embeddings\n",
      "Retrieved chunks with sources:\n",
      "\n",
      "--- CHUNK 1 ---\n",
      "Source: BNP 2Q25 Press Release (Page 3)\n",
      "Content: In 2Q25, stage 3 provisions were contained at €830m (€1,027m in 2Q24), while provisions on \n",
      "performing loans came to €54m this quarter. As of 30.06.2025, the stock of provisions came to \n",
      "€18.2bn, including €4.1bn in stage 1 and 2 provisions. The stage 3 coverage ratio stood at 68.8% \n",
      "on a ratio of non-performing loans of 1.6%.  \n",
      "The other net losses for risk on financial instruments amounted to €100m in 2Q25 (€91m in 2Q24). \n",
      "Operating income, pre-tax income and net income, Group share \n",
      "Group operating income came to €4,365m, up by 2.7% compared to 2Q24 (€4,251m). \n",
      "Net income, Group share  amounted to €3,258m in 2Q25, down by 4.0% compared to 2Q24 \n",
      "(€3,395m). For reference, the corporate income tax rate in 2Q24 was low (20.8%) due to a 2Q24 \n",
      "change in the method of taxing financing costs in the United States.  The average corporate \n",
      "income tax rate stood at 26.5% in the 2nd quarter.\n",
      "---\n",
      "\n",
      "\n",
      "--- CHUNK 2 ---\n",
      "Source: BNP 2Q25 Press Release (Page 4)\n",
      "Content: €6,209m (vs. €6,498m in 2024).  \n",
      "As of 30 June 2025, return on non -revaluated tangible equity was 11.6%. This reflects the solid \n",
      "performances of the BNP Paribas Group, on the back of its diversified and integrated model. \n",
      "Distribution of earnings \n",
      "Further to the announcement of 4 February 2025 regarding the introduction of an interim dividend \n",
      "effective in 2025, on 23 July 2025, the Board of Directors approved the cash payment of an interim \n",
      "dividend equal to 50% of consolidated net income per share 9 of the first half of 2025  (€5.18), \n",
      "hence €2.59 per share. \n",
      "The interim dividend will be detached on 26 September 2025 and paid out on 30 September 2025 \n",
      "as an advance on the dividend to be paid out on 2025 earnings.\n",
      "---\n",
      "\n",
      "\n",
      "--- CHUNK 3 ---\n",
      "Source: BNP 2Q25 Press Release (Page 4)\n",
      "Content: 1H24).  \n",
      "Group operating expenses came to €15,489m, up by 2.5% compared to 1H24 (€15,113m). They \n",
      "include the exceptional impact of restructuring and adaptation costs (€84m) and IT reinforcement \n",
      "costs (€171m) for a total of €255m. At division level, operating expenses increased by +5.8% at \n",
      "CIB and by +1.0% at CPBS8 (+1.0% in Commercial & Personal Banking and +0.9% in Specialised \n",
      "Businesses). They rose by 1.0% at IPS.  \n",
      "At the Group level, the jaws effect was therefore positive (+0.7 point).  \n",
      "Group gross operating income amounted to €10,052m in the first half of the year, up by 4.3% \n",
      "compared to 1H24 (€9,640m).  \n",
      "Group cost of risk 2 stood at € 1,650m (€1,392m in 1H24). Other net losses for risk on financial \n",
      "instruments amounted to €115m. \n",
      "Group non-operating items, at €510m in 1H25, reflect the effect of revaluation of long-term equity \n",
      "securities.  \n",
      "Group pre-tax income came to €8,797m, up by 0.1% compared to 1H24 (€8,785m). Based on an \n",
      "average corporate income tax rate for the first half of 27.5%, net income, Group share came to \n",
      "€6,209m (vs. €6,498m in 2024).  \n",
      "As of 30 June 2025, return on non -revaluated tangible equity was 11.6%. This reflects the solid\n",
      "---\n",
      "\n",
      "\n",
      "--- CHUNK 4 ---\n",
      "Source: BNP 2Q25 Press Release (Page 1)\n",
      "Content: Very solid financial structure ⎯ CET16 12.5%  \n",
      "    \n",
      " \n",
      " \n",
      "Distribution \n",
      "of earnings \n",
      " 2025 interim dividend: €2.59 – Payment7 in cash on 30.09.25 \n",
      "Share buyback finalised on 09.06.25: €1.08bn \n",
      " \n",
      "    \n",
      "Based on these solid 2nd quarter operating performances  \n",
      "and the robust acceleration expected in the 2nd half of the year,  \n",
      "net income 2025 is expected to exceed €12.2bn, in line with our 2024-2026 trajectory.\n",
      "---\n",
      "\n",
      "\n",
      "--- CHUNK 5 ---\n",
      "Source: BNP 2Q25 Earnings Call Transcript (Page 3)\n",
      "Content: BNP Paribas - Second Quarter 2025 Results   24 July 2025 \n",
      " \n",
      "3 \n",
      " \n",
      "All in all, our net profit was down 4% due to a one-time low tax charge in the second quarter of 2024 \n",
      "without compromising our trajectory of profitability as this tax impact ironed out over the full year \n",
      "2024. \n",
      "Our CET1 is stable quarter on quarter at 12.5% and Lars will elaborate on this later.  \n",
      "Finally, we confidently confirm our distribution policy of 60% and are pleased to announce our first \n",
      "interim dividend of €2.59 per share, which represents 50% of our EPS for the first half of 2025. \n",
      "A €1.08 billion share buy-back program was completed in June, and the shares will be cancelled. After \n",
      "a solid performance in Q2, we expect a sharp acceleration in the second half , as I will explain on the \n",
      "next slide.  \n",
      " \n",
      "2025 OUTLOOK \n",
      "2025 net income expected to exceed €12.2 bn \n",
      " \n",
      "So now moving to slide 5. We are pleased to confirm that we expect our net profit for 2025 to be \n",
      "above €12.2 billion, mainly driven by a strong acceleration in revenues in the second half of the year \n",
      "at more than 5% excluding AXA IM. This revenue growth is in the place as it will largely come from the\n",
      "---\n",
      "\n"
     ]
    }
   ],
   "source": [
    "# Query: find most relevant document chunks\n",
    "user_question = \"What was the Group's net income expected for 2025?\"\n",
    "\n",
    "# Use the same retry mechanism for query embeddings\n",
    "question_embeddings = get_embeddings_with_retry([user_question], batch_size=1)\n",
    "question_embedding = np.array([question_embeddings[0]])\n",
    "\n",
    "# Search for the most similar chunks using L2 distance\n",
    "distances, chunk_indices = similarity_index.search(question_embedding, k=5)\n",
    "\n",
    "# Retrieve the actual text chunks with their metadata\n",
    "most_relevant_chunks = [chunks[idx] for idx in chunk_indices[0]]\n",
    "\n",
    "\n",
    "# Format chunks with source information for better citations\n",
    "def format_chunk_with_source(chunk, chunk_num):\n",
    "    source = chunk.metadata.get(\"source\", \"Unknown Source\")\n",
    "    page = chunk.metadata.get(\"page\", \"Unknown Page\")\n",
    "\n",
    "    return f\"\"\"\n",
    "--- CHUNK {chunk_num + 1} ---\n",
    "Source: {source} (Page {page + 1})\n",
    "Content: {chunk.page_content}\n",
    "---\n",
    "\"\"\"\n",
    "\n",
    "\n",
    "formatted_chunks = [\n",
    "    format_chunk_with_source(chunk, i) for i, chunk in enumerate(most_relevant_chunks)\n",
    "]\n",
    "\n",
    "# Display the retrieved chunks with sources\n",
    "print(\"Retrieved chunks with sources:\")\n",
    "for formatted_chunk in formatted_chunks:\n",
    "    print(formatted_chunk)"
   ]
  },
  {
   "cell_type": "markdown",
   "id": "9bf70147",
   "metadata": {},
   "source": [
    "## RAG Pipeline\n"
   ]
  },
  {
   "cell_type": "markdown",
   "id": "eb06d3b3",
   "metadata": {},
   "source": [
    "### Generation Basic Answer\n"
   ]
  },
  {
   "cell_type": "markdown",
   "id": "c89ec12a",
   "metadata": {},
   "source": [
    "We construct a detailed prompt that combines retrieved context with specific instructions for accurate, cited financial analysis responses.\n",
    "\n",
    "**Prompt Engineering Strategy:**\n",
    "\n",
    "- **Role definition**: Establishes AI as financial analysis specialist to prime domain-specific responses\n",
    "- **Context injection**: Inserts retrieved chunks with preserved source metadata directly into prompt\n",
    "- **Citation requirements**: Explicit instructions for proper source attribution in format [Source: Document Name (Page X)]\n",
    "- **Boundary constraints**: Restricts answers to provided context only, preventing hallucination of financial data\n",
    "- **Transparency mandate**: Requires clear statement when information is unavailable in context\n",
    "\n",
    "**Model Selection:** Using Mistral Large Latest for superior reasoning capabilities on complex financial queries and reliable citation following - critical for maintaining accuracy in financial analysis applications.\n"
   ]
  },
  {
   "cell_type": "code",
   "execution_count": null,
   "id": "8a48b244",
   "metadata": {},
   "outputs": [],
   "source": [
    "prompt = f\"\"\"You are an AI Assistant specialised in Financial Analysis. You are given a question and context information with sources. You need to answer the question based on the context and provide proper source citations.\n",
    "\n",
    "Context information with sources is below:\n",
    "---------------------\n",
    "{''.join(formatted_chunks)}\n",
    "---------------------\n",
    "\n",
    "INSTRUCTIONS:\n",
    "1. Answer the query based ONLY on the provided context information\n",
    "2. For each fact or figure you mention, include a citation in the format [Source: Document Name (Page X)]\n",
    "3. If information comes from multiple sources, cite all relevant sources\n",
    "4. Be specific about which information comes from which source\n",
    "5. If you cannot find information in the provided context, state that clearly\n",
    "\n",
    "Query: {user_question}\n",
    "\n",
    "Answer with proper source citations:\n",
    "\"\"\"\n",
    "\n",
    "\n",
    "def run_mistral(user_message, model=\"mistral-large-latest\"):\n",
    "    messages = [{\"role\": \"user\", \"content\": user_message}]\n",
    "    chat_response = client.chat.complete(model=model, messages=messages)\n",
    "    return chat_response.choices[0].message.content\n",
    "\n",
    "\n",
    "answer = run_mistral(prompt)"
   ]
  },
  {
   "cell_type": "markdown",
   "id": "f2f73676",
   "metadata": {},
   "source": [
    "### Source Summary & Transparency\n"
   ]
  },
  {
   "cell_type": "markdown",
   "id": "2878124c",
   "metadata": {},
   "source": [
    "We provide a consolidated summary of all sources referenced in the response, enhancing transparency and enabling easy verification of information sources.\n",
    "\n",
    "**Source Tracking Features:**\n",
    "\n",
    "- **Automatic aggregation**: Collects all unique sources and page numbers from retrieved chunks\n",
    "- **Deduplication**: Removes duplicate page references within each source document\n",
    "- **Sorted presentation**: Orders page numbers for easy navigation and verification\n",
    "- **Clear formatting**: Professional summary format with document names and specific page ranges\n",
    "- **Audit trail**: Complete traceability for compliance and fact-checking requirements\n",
    "\n",
    "This source summary enables financial analysts to quickly verify information, supports regulatory compliance, and builds trust in AI-generated insights by providing complete transparency into the underlying data sources.\n"
   ]
  },
  {
   "cell_type": "code",
   "execution_count": null,
   "id": "688b9227",
   "metadata": {},
   "outputs": [
    {
     "name": "stdout",
     "output_type": "stream",
     "text": [
      "\n",
      "📚 SOURCES REFERENCED:\n",
      "==================================================\n",
      "• BNP 2Q25 Press Release: Pages 1, 3, 4\n",
      "• BNP 2Q25 Earnings Call Transcript: Pages 3\n",
      "\n"
     ]
    }
   ],
   "source": [
    "# Helper function to create source summary\n",
    "def create_source_summary(chunks):\n",
    "    \"\"\"Create a summary of sources used in the response\"\"\"\n",
    "    sources = {}\n",
    "    for chunk in chunks:\n",
    "        source_name = chunk.metadata.get(\"source\", \"Unknown Source\")\n",
    "        page = chunk.metadata.get(\"page\", \"Unknown Page\")\n",
    "\n",
    "        if source_name not in sources:\n",
    "            sources[source_name] = set()\n",
    "        sources[source_name].add(page + 1 if isinstance(page, int) else page)\n",
    "\n",
    "    summary = \"\\n📚 SOURCES REFERENCED:\\n\"\n",
    "    summary += \"=\" * 50 + \"\\n\"\n",
    "\n",
    "    for source, pages in sources.items():\n",
    "        if isinstance(list(pages)[0], int):\n",
    "            sorted_pages = sorted(list(pages))\n",
    "            pages_str = \", \".join(map(str, sorted_pages))\n",
    "        else:\n",
    "            pages_str = \", \".join(map(str, pages))\n",
    "        summary += f\"• {source}: Pages {pages_str}\\n\"\n",
    "\n",
    "    return summary\n",
    "\n",
    "\n",
    "# Display source summary\n",
    "print(create_source_summary(most_relevant_chunks))"
   ]
  },
  {
   "cell_type": "markdown",
   "id": "bec28726",
   "metadata": {},
   "source": [
    "### RAG - Complete Pipeline\n"
   ]
  },
  {
   "cell_type": "markdown",
   "id": "f8a8edd5",
   "metadata": {},
   "source": [
    "We integrate all components into a function that delivers comprehensive financial analysis with full source attribution and metadata tracking.\n",
    "\n",
    "**Pipeline Integration:**\n",
    "\n",
    "- **End-to-end workflow**: Single function handles embedding, retrieval, generation, and citation in one seamless process\n",
    "- **Configurable retrieval**: Adjustable top-k parameter allows fine-tuning relevance vs. context breadth\n",
    "- **Structured output**: Returns organized response with answer, source summary, and operational metadata\n"
   ]
  },
  {
   "cell_type": "code",
   "execution_count": null,
   "id": "93db6b80",
   "metadata": {},
   "outputs": [],
   "source": [
    "# Complete RAG Pipeline with Citations\n",
    "def rag_with_citations(question, top_k=5):\n",
    "    \"\"\"\n",
    "    Complete RAG pipeline with source citations\n",
    "\n",
    "    Args:\n",
    "        question (str): User's question\n",
    "        top_k (int): Number of chunks to retrieve\n",
    "\n",
    "    Returns:\n",
    "        dict: Contains answer, sources, and metadata\n",
    "    \"\"\"\n",
    "\n",
    "    # Get embeddings for the question\n",
    "    question_embeddings = get_embeddings_with_retry([question], batch_size=1)\n",
    "    question_embedding = np.array([question_embeddings[0]])\n",
    "\n",
    "    # Search for most similar chunks\n",
    "    distances, chunk_indices = similarity_index.search(question_embedding, k=top_k)\n",
    "    relevant_chunks = [chunks[idx] for idx in chunk_indices[0]]\n",
    "\n",
    "    # Format chunks with source information\n",
    "    formatted_chunks = [\n",
    "        format_chunk_with_source(chunk, i) for i, chunk in enumerate(relevant_chunks)\n",
    "    ]\n",
    "\n",
    "    # Create enhanced prompt\n",
    "    enhanced_prompt = f\"\"\"You are an AI Assistant specialised in Financial Analysis. You are given a question and context information with sources. You need to answer the question based on the context and provide proper source citations.\n",
    "\n",
    "Context information with sources is below:\n",
    "---------------------\n",
    "{''.join(formatted_chunks)}\n",
    "---------------------\n",
    "\n",
    "INSTRUCTIONS:\n",
    "1. Answer the query based ONLY on the provided context information\n",
    "2. For each fact or figure you mention, include a citation in the format [Source: Document Name (Page X)]\n",
    "3. If information comes from multiple sources, cite all relevant sources\n",
    "4. Be specific about which information comes from which source\n",
    "5. If you cannot find information in the provided context, state that clearly\n",
    "\n",
    "Query: {question}\n",
    "\n",
    "Answer with proper source citations:\n",
    "\"\"\"\n",
    "\n",
    "    # Get answer with citations\n",
    "    answer = run_mistral(enhanced_prompt)\n",
    "\n",
    "    # Create source summary\n",
    "    source_summary = create_source_summary(relevant_chunks)\n",
    "\n",
    "    return {\n",
    "        \"question\": question,\n",
    "        \"answer\": answer,\n",
    "        \"source_summary\": source_summary,\n",
    "        \"chunks_used\": len(relevant_chunks),\n",
    "        \"sources\": list(\n",
    "            set(chunk.metadata.get(\"source\", \"Unknown\") for chunk in relevant_chunks)\n",
    "        ),\n",
    "    }"
   ]
  },
  {
   "cell_type": "markdown",
   "id": "85d0200f",
   "metadata": {},
   "source": [
    "### Complete Pipeline Example\n"
   ]
  },
  {
   "cell_type": "code",
   "execution_count": null,
   "id": "0e094f7d",
   "metadata": {},
   "outputs": [
    {
     "name": "stdout",
     "output_type": "stream",
     "text": [
      "🚀 TESTING COMPLETE RAG PIPELINE WITH CITATIONS\n",
      "======================================================================\n",
      "Successfully processed 1 embeddings\n",
      "Question: What was the Group's net income expected for 2025?\n",
      "Chunks used: 3\n",
      "Sources: BNP 2Q25 Press Release\n",
      "\n",
      "Answer:\n",
      "Based on the provided context, there is no explicit information about the Group's expected net income for the full year 2025. The context provides details about the net income for specific periods (2Q25 and 1H25) but does not include projections or expectations for the entire year of 2025.\n",
      "\n",
      "Here are the relevant figures mentioned in the context:\n",
      "- Net income, Group share for 2Q25: €3,258m [Source: BNP 2Q25 Press Release (Page 3)]\n",
      "- Net income, Group share for 1H25: €6,209m [Source: BNP 2Q25 Press Release (Page 4)]\n",
      "\n",
      "If you need the expected net income for the full year 2025, additional information beyond the provided context would be required.\n",
      "\n",
      "📚 SOURCES REFERENCED:\n",
      "==================================================\n",
      "• BNP 2Q25 Press Release: Pages 3, 4\n",
      "\n"
     ]
    }
   ],
   "source": [
    "# Example usage of the complete pipeline\n",
    "print(\"🚀 TESTING COMPLETE RAG PIPELINE WITH CITATIONS\")\n",
    "print(\"=\" * 70)\n",
    "\n",
    "test_question = \"What was the Group's net income expected for 2025?\"\n",
    "result = rag_with_citations(test_question, top_k=3)\n",
    "\n",
    "print(f\"Question: {result['question']}\")\n",
    "print(f\"Chunks used: {result['chunks_used']}\")\n",
    "print(f\"Sources: {', '.join(result['sources'])}\")\n",
    "print(\"\\nAnswer:\")\n",
    "print(result[\"answer\"])\n",
    "print(result[\"source_summary\"])"
   ]
  },
  {
   "cell_type": "markdown",
   "id": "8f436cf8",
   "metadata": {},
   "source": [
    "## Usage Example\n"
   ]
  },
  {
   "cell_type": "markdown",
   "id": "5e29b297",
   "metadata": {},
   "source": [
    "#### Simple Fact Retrieval\n"
   ]
  },
  {
   "cell_type": "code",
   "execution_count": null,
   "id": "b9e2d66a",
   "metadata": {},
   "outputs": [
    {
     "name": "stdout",
     "output_type": "stream",
     "text": [
      "Successfully processed 1 embeddings\n",
      "Question: What was the Group's net income expected for 2025?\n",
      "\n",
      "Answer:\n",
      "The Group's net income expected for 2025 is above €12.2 billion. This outlook is based on the solid second-quarter operating performances and the expected robust acceleration in the second half of the year [Source: BNP 2Q25 Press Release (Page 1)][Source: BNP 2Q25 Earnings Call Transcript (Page 3)].\n",
      "\n",
      "The earnings call transcript further confirms this expectation, emphasizing that the net profit for 2025 is projected to exceed €12.2 billion, driven by strong revenue growth in the second half of the year [Source: BNP 2Q25 Earnings Call Transcript (Page 3)].\n",
      "\n",
      "📚 SOURCES REFERENCED:\n",
      "==================================================\n",
      "• BNP 2Q25 Press Release: Pages 1, 3, 4\n",
      "• BNP 2Q25 Earnings Call Transcript: Pages 3\n",
      "\n"
     ]
    }
   ],
   "source": [
    "question = \"What was the Group's net income expected for 2025?\"\n",
    "# expected answer :\n",
    "#  2025 is to exceed €12.2 billion\n",
    "# generated answer :\n",
    "result = rag_with_citations(question, top_k=5)\n",
    "\n",
    "print(f\"Question: {result['question']}\")\n",
    "print(\"\\nAnswer:\")\n",
    "print(result[\"answer\"])\n",
    "print(result[\"source_summary\"])"
   ]
  },
  {
   "cell_type": "markdown",
   "id": "6ef0da0a",
   "metadata": {},
   "source": [
    "#### Specific Data Point Extraction\n"
   ]
  },
  {
   "cell_type": "code",
   "execution_count": null,
   "id": "3f397cd6",
   "metadata": {},
   "outputs": [
    {
     "name": "stdout",
     "output_type": "stream",
     "text": [
      "Successfully processed 1 embeddings\n",
      "Question: What was the interim dividend per share announced for 2025, and when will it be paid?\n",
      "\n",
      "Answer:\n",
      "The interim dividend per share announced for 2025 is **€2.59**, and it will be paid on **30 September 2025**.\n",
      "\n",
      "- The interim dividend amount of **€2.59 per share** is cited in:\n",
      "  - [Source: BNP 2Q25 Press Release (Page 4)]\n",
      "  - [Source: BNP 2Q25 Press Release (Page 1)]\n",
      "  - [Source: BNP 2Q25 Earnings Call Transcript (Page 8)]\n",
      "\n",
      "- The payment date of **30 September 2025** is cited in:\n",
      "  - [Source: BNP 2Q25 Press Release (Page 4)]\n",
      "  - [Source: BNP 2Q25 Press Release (Page 1)]\n",
      "  - [Source: BNP 2Q25 Earnings Call Transcript (Page 8)]\n",
      "\n",
      "📚 SOURCES REFERENCED:\n",
      "==================================================\n",
      "• BNP 2Q25 Press Release: Pages 1, 4\n",
      "• BNP 2Q25 Earnings Call Transcript: Pages 8\n",
      "\n"
     ]
    }
   ],
   "source": [
    "question = \"What was the interim dividend per share announced for 2025, and when will it be paid?\"\n",
    "\n",
    "# expected answer :\n",
    "#  The interim dividend announced for 2025 is €2.59 per share. It will be paid out on 30 September 2025.\n",
    "# generated answer :\n",
    "result = rag_with_citations(question, top_k=3)\n",
    "\n",
    "print(f\"Question: {result['question']}\")\n",
    "print(\"\\nAnswer:\")\n",
    "print(result[\"answer\"])\n",
    "print(result[\"source_summary\"])"
   ]
  },
  {
   "cell_type": "code",
   "execution_count": null,
   "id": "95375245",
   "metadata": {},
   "outputs": [
    {
     "name": "stdout",
     "output_type": "stream",
     "text": [
      "Successfully processed 1 embeddings\n",
      "Question: What was the CET1 ratio as of the end of the quarter, and how does management describe its stability?\n",
      "\n",
      "Answer:\n",
      "As of the end of the second quarter of 2025, the Common Equity Tier 1 (CET1) ratio was **12.5%** [Source: BNP 2Q25 Press Release (Page 5), Source: BNP 2Q25 Earnings Call Transcript (Page 6)].\n",
      "\n",
      "Management describes the CET1 ratio as **stable quarter-on-quarter**, highlighting that it remains **far above the SREP requirements (10.48%)** and reflects **little volatility through the cycle** due to the Group's diversified business model. The stability is attributed to:\n",
      "1. **Organic capital generation** (+20 basis points, offset by earnings distribution and model updates) [Source: BNP 2Q25 Press Release (Page 5)].\n",
      "2. **RWA (Risk-Weighted Assets) optimization efforts**, which have contributed to cumulative gains of about **65 basis points** on the CET1 ratio [Source: BNP 2Q25 Press Release (Page 5)].\n",
      "3. **Tight control of capital trajectory**, ensuring the bank remains **less cyclical than many other banks** [Source: BNP 2Q25 Earnings Call Transcript (Page 6)].\n",
      "\n",
      "Additionally, management confirms that the Group is **well on track to be above its orientation of 12.3% CET1 pre-FRTB** [Source: BNP 2Q25 Earnings Call Transcript (Page 6)].\n",
      "\n",
      "The phased-in CET1 ratio is also emphasized as the **base for MDA (Maximum Distributable Amount) calculations**, aligning with regulatory requirements and the Group’s 2030 trajectory [Source: BNP 2Q25 Press Release (Page 18), Source: BNP 2Q25 Earnings Call Transcript (Page 9)].\n",
      "\n",
      "📚 SOURCES REFERENCED:\n",
      "==================================================\n",
      "• BNP 2Q25 Press Release: Pages 5, 18\n",
      "• BNP 2Q25 Earnings Call Transcript: Pages 6, 9\n",
      "\n"
     ]
    }
   ],
   "source": [
    "question = \"What was the CET1 ratio as of the end of the quarter, and how does management describe its stability?\"\n",
    "# expected answer :\n",
    "# \"Page 3. \"Our CET1 is stable quarter on quarter at 12.5%\". Page 6 expands on this: \"stable quarter on quarter at 12.5%... well on track to be above our orientation of 12.3% CET1 pre-FRTB.\"# generated answer :\n",
    "result = rag_with_citations(question, top_k=5)\n",
    "\n",
    "print(f\"Question: {result['question']}\")\n",
    "print(\"\\nAnswer:\")\n",
    "print(result[\"answer\"])\n",
    "print(result[\"source_summary\"])"
   ]
  },
  {
   "cell_type": "markdown",
   "id": "37fb08a1",
   "metadata": {},
   "source": [
    "#### Strategic Summary\n"
   ]
  },
  {
   "cell_type": "code",
   "execution_count": null,
   "id": "be649684",
   "metadata": {},
   "outputs": [
    {
     "name": "stdout",
     "output_type": "stream",
     "text": [
      "Successfully processed 1 embeddings\n",
      "Question: Summarize the bank's 2026 growth trajectory as outlined in the reports.\n",
      "\n",
      "Answer:\n",
      "Based on the provided context, the bank's 2026 growth trajectory is outlined as follows:\n",
      "\n",
      "1. **Return on Tangible Equity (RoTE)**:\n",
      "   - The bank targets a RoTE of **12% in 2026**, up from 11.5% in 2025 [Source: BNP 2Q25 Earnings Call Transcript (Page 3)].\n",
      "   - This is described as a \"stepping stone towards further improvement\" [Source: BNP 2Q25 Earnings Call Transcript (Page 3)].\n",
      "\n",
      "2. **Revenue Growth**:\n",
      "   - The bank expects a **compound annual growth rate (CAGR) above 5% for revenues from 2024 to 2026** [Source: BNP 2Q25 Press Release (Page 5)].\n",
      "\n",
      "3. **Net Income Growth**:\n",
      "   - The bank forecasts a **net income CAGR above 7% for 2024–2026** [Source: BNP 2Q25 Press Release (Page 5)].\n",
      "   - Additionally, the **EPS growth CAGR is expected to exceed 8%** [Source: BNP 2Q25 Earnings Call Transcript (Page 3)].\n",
      "\n",
      "4. **Operational Efficiency**:\n",
      "   - The **jaws effect** (revenue growth outpacing cost growth) is projected to average **+1.5 points per year** [Source: BNP 2Q25 Press Release (Page 5)].\n",
      "   - Cost-saving measures will support this efficiency [Source: BNP 2Q25 Earnings Call Transcript (Page 3)].\n",
      "\n",
      "5. **Cost of Risk**:\n",
      "   - The bank aims to maintain the **cost of risk below 40 basis points (bps) in both 2025 and 2026** [Source: BNP 2Q25 Press Release (Page 5)].\n",
      "\n",
      "6. **Division-Specific Contributions**:\n",
      "   - **CIB (Corporate & Investment Banking)**: Continued market share growth through the \"Originate & Distribute\" model [Source: BNP 2Q25 Earnings Call Transcript (Page 3)].\n",
      "   - **CPBS (Commercial, Personal Banking & Services)**: Expected to contribute **+1% to Group RoTE by 2028**, with **+0.5% by 2026** due to strategic plans and NII acceleration [Source: BNP 2Q25 Press Release (Page 6)].\n",
      "   - **IPS (Insurance, Personal Services)**: Strong growth in Wealth Management, Asset Management, and Insurance, amplified by acquisitions like AXA IM [Source: BNP 2Q25 Earnings Call Transcript (Page 3)].\n",
      "\n",
      "This trajectory reflects the bank's focus on **organic growth, operational efficiency, and strategic acquisitions** to drive profitability and shareholder returns.\n",
      "\n",
      "📚 SOURCES REFERENCED:\n",
      "==================================================\n",
      "• BNP 2Q25 Earnings Call Transcript: Pages 3\n",
      "• BNP 2Q25 Press Release: Pages 5, 6, 18\n",
      "\n"
     ]
    }
   ],
   "source": [
    "question = \"Summarize the bank's 2026 growth trajectory as outlined in the reports.\"\n",
    "# expected answer : Page  3, Earning Call Transcript under \"2026 TRAJECTORY\". It lists targets for RoTE, net income growth, and EPS growth\n",
    "# generated answer :\n",
    "result = rag_with_citations(question, top_k=5)\n",
    "\n",
    "print(f\"Question: {result['question']}\")\n",
    "print(\"\\nAnswer:\")\n",
    "print(result[\"answer\"])\n",
    "print(result[\"source_summary\"])"
   ]
  },
  {
   "cell_type": "markdown",
   "id": "65baad69",
   "metadata": {},
   "source": [
    "#### Strategic Validation\n"
   ]
  },
  {
   "cell_type": "code",
   "execution_count": null,
   "id": "826c3737",
   "metadata": {},
   "outputs": [
    {
     "name": "stdout",
     "output_type": "stream",
     "text": [
      "Successfully processed 1 embeddings\n",
      "Question: Management highlights their commitment to 'cost control' and achieving a 'positive jaws effect'. What specific cost-saving figures and jaws-effect metrics are provided in the reports to support this claim?\n",
      "\n",
      "Answer:\n",
      "Based on the provided context, the following specific cost-saving figures and jaws-effect metrics support BNP's commitment to cost control and achieving a positive jaws effect:\n",
      "\n",
      "1. **Cost Savings**:\n",
      "   - BNP implemented **€190 million** of new cost savings in 2Q25, which is consistent with their full-year target and helps offset inflation [Source: BNP 2Q25 Earnings Call Transcript (Page 5)].\n",
      "   - The company remains on track to deliver **€600 million** in cost savings for the year, with the €190 million achieved in Q2 contributing to this goal [Source: BNP 2Q25 Earnings Call Transcript (Page 2)].\n",
      "\n",
      "2. **Jaws Effect Metrics**:\n",
      "   - At the **Group level**, the jaws effect was **1.7 points** in 2Q25, exceeding the stated ambition of 1.5 points [Source: BNP 2Q25 Earnings Call Transcript (Page 2)].\n",
      "   - **Corporate & Institutional Banking (CIB)** reported a positive jaws effect of **0.7 points** [Source: BNP 2Q25 Earnings Call Transcript (Page 5)].\n",
      "   - **Commercial & Personal Banking Services (CPBS)** had a positive jaws effect of **0.5 points**, with a notable **3.1-point positive jaws effect** in the Eurozone due to a 2.0% decrease in operating expenses [Source: BNP 2Q25 Press Release (Page 9)].\n",
      "   - **Europe-Mediterranean** reported a very high positive jaws effect of **18.9 points**, despite a 3.8% increase in operating expenses due to inflation [Source: BNP 2Q25 Press Release (Page 9)].\n",
      "   - **Investment & Protection Services (IPS)** achieved a **5.2-point positive jaws effect**, with operating expenses decreasing by 0.7% [Source: BNP 2Q25 Press Release (Page 3)].\n",
      "   - **Specialised Businesses** also showed positive jaws effects, including:\n",
      "     - **Arval & Leasing Solutions**: +1.4 points (excluding used-car revenues) [Source: BNP 2Q25 Press Release (Page 3)].\n",
      "     - **Personal Finance**: +1.1 points [Source: BNP 2Q25 Press Release (Page 3)].\n",
      "     - **New Digital Businesses and Personal Investors**: +4.3 points (+4.8 points at constant scope and exchange rates) [Source: BNP 2Q25 Press Release (Page 3)].\n",
      "\n",
      "These figures demonstrate BNP's disciplined cost management and operational efficiency across its business divisions.\n",
      "\n",
      "📚 SOURCES REFERENCED:\n",
      "==================================================\n",
      "• BNP 2Q25 Earnings Call Transcript: Pages 2, 5\n",
      "• BNP 2Q25 Press Release: Pages 3, 9\n",
      "\n"
     ]
    }
   ],
   "source": [
    "question = \"Management highlights their commitment to 'cost control' and achieving a 'positive jaws effect'. What specific cost-saving figures and jaws-effect metrics are provided in the reports to support this claim?\"\n",
    "# expected answer : Page 2. \"on track to deliver cost savings of €600 million this year, with €190 million of additional savings implemented in Q2. Overall, we generated positive jaws effect of 1.7 points this quarter\".\n",
    "# generated answer :\n",
    "result = rag_with_citations(question, top_k=5)\n",
    "\n",
    "print(f\"Question: {result['question']}\")\n",
    "print(\"\\nAnswer:\")\n",
    "print(result[\"answer\"])\n",
    "print(result[\"source_summary\"])"
   ]
  },
  {
   "cell_type": "markdown",
   "id": "36a4490a",
   "metadata": {},
   "source": [
    "#### Driver & Anomaly Analysis\n"
   ]
  },
  {
   "cell_type": "code",
   "execution_count": null,
   "id": "d27021b6",
   "metadata": {},
   "outputs": [
    {
     "name": "stdout",
     "output_type": "stream",
     "text": [
      "Successfully processed 1 embeddings\n",
      "Question: The headline net profit was down 4% year-over-year. What was the primary reason given for this decline, and how does the company frame its impact on the full-year 2024 trajectory?\n",
      "\n",
      "Answer:\n",
      "The primary reason given for the 4% year-over-year decline in headline net profit was a one-time low tax charge in the second quarter of 2024. The company frames this impact as temporary, stating that it did not compromise the full-year 2024 profitability trajectory, as the tax impact was ironed out over the full year [Source: BNP 2Q25 Earnings Call Transcript (Page 3)].\n",
      "\n",
      "The company also confirms its confidence in its financial outlook by maintaining a distribution policy of 60% and announcing an interim dividend of €2.59 per share, representing 50% of its EPS for the first half of 2025 [Source: BNP 2Q25 Earnings Call Transcript (Page 3)]. Additionally, the company expects a sharp acceleration in performance in the second half of 2025, with net income projected to exceed €12.2 billion [Source: BNP 2Q25 Earnings Call Transcript (Page 3)].\n",
      "\n",
      "📚 SOURCES REFERENCED:\n",
      "==================================================\n",
      "• BNP 2Q25 Press Release: Pages 2, 4, 10, 15\n",
      "• BNP 2Q25 Earnings Call Transcript: Pages 3\n",
      "\n"
     ]
    }
   ],
   "source": [
    "# Add your advanced analysis questions here\n",
    "question = \"The headline net profit was down 4% year-over-year. What was the primary reason given for this decline, and how does the company frame its impact on the full-year 2024 trajectory?\"\n",
    "# expected answer : Page 3. \"our net profit was down 4% due to a one-time low tax charge in the second quarter of 2024 without compromising our trajectory... as this tax impact ironed out over the full year 2024.\"\n",
    "# generated answer :\n",
    "result = rag_with_citations(question, top_k=5)\n",
    "\n",
    "print(f\"Question: {result['question']}\")\n",
    "print(\"\\nAnswer:\")\n",
    "print(result[\"answer\"])\n",
    "print(result[\"source_summary\"])"
   ]
  },
  {
   "cell_type": "markdown",
   "id": "0cccc38d",
   "metadata": {},
   "source": [
    "#### Stakeholder Sentiment & Risk Inquiry\n"
   ]
  },
  {
   "cell_type": "code",
   "execution_count": null,
   "id": "8ea7ecca",
   "metadata": {},
   "outputs": [
    {
     "name": "stdout",
     "output_type": "stream",
     "text": [
      "Successfully processed 1 embeddings\n",
      "Question: During the Q&A, an analyst from CIC raised a concern about the profitability of BNP's European commercial banks. How did management respond, and what specific performance metric did they highlight for BNL in Italy?\n",
      "\n",
      "Answer:\n",
      "During the Q&A, management responded to the analyst's concern about the profitability of BNP's European commercial banks by emphasizing their focus on improving profitability despite a challenging competitive environment. Specifically for BNL in Italy, they highlighted the **Return on Net Equity (RONE)**, which was close to **14% in the first half of 2025**, nearly twice the level seen in 2022. They also noted that costs for BNL were down by **1.5%** (excluding the DGS impact) and that the cost of risk had decreased from around **50 basis points to 38 basis points** in 2Q25 [Source: BNP 2Q25 Earnings Call Transcript (Page 9)].\n",
      "\n",
      "Additionally, management mentioned that BNL's pre-tax profit had increased by **more than 30%** in the quarter, though they acknowledged pressures on corporate banking margins in Italy [Source: BNP 2Q25 Earnings Call Transcript (Page 12)]. They also reiterated their confidence in achieving an overall profitability target of **above 3%** for Commercial and Private Banking in Europe, despite BNL potentially gravitating slightly below that level [Source: BNP 2Q25 Earnings Call Transcript (Page 11)].\n",
      "\n",
      "📚 SOURCES REFERENCED:\n",
      "==================================================\n",
      "• BNP 2Q25 Earnings Call Transcript: Pages 9, 11, 12\n",
      "\n"
     ]
    }
   ],
   "source": [
    "# Add your risk assessment questions here\n",
    "# Add your advanced analysis questions here\n",
    "question = \"During the Q&A, an analyst from CIC raised a concern about the profitability of BNP's European commercial banks. How did management respond, and what specific performance metric did they highlight for BNL in Italy?\"\n",
    "# expected answer : Page 9 (Q&A section). \"Pierre Chédeville (CIC): ...difference in terms of profitability between your European path and some other of your competitors.\" and Lars Machenil's response: \"if we look at BNL, for example... our internal metric, the RONE, which is close to 14% in the first half of the year\".\n",
    "# generated answer :\n",
    "result = rag_with_citations(question, top_k=5)\n",
    "\n",
    "print(f\"Question: {result['question']}\")\n",
    "print(\"\\nAnswer:\")\n",
    "print(result[\"answer\"])\n",
    "print(result[\"source_summary\"])"
   ]
  }
 ],
 "metadata": {
  "kernelspec": {
   "display_name": ".venv",
   "language": "python",
   "name": "python3"
  },
  "language_info": {
   "codemirror_mode": {
    "name": "ipython",
    "version": 3
   },
   "file_extension": ".py",
   "mimetype": "text/x-python",
   "name": "python",
   "nbconvert_exporter": "python",
   "pygments_lexer": "ipython3",
   "version": "3.12.11"
  }
 },
 "nbformat": 4,
 "nbformat_minor": 5
}
