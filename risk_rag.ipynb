{
 "cells": [
  {
   "cell_type": "code",
   "execution_count": 1,
   "id": "0f38626f",
   "metadata": {},
   "outputs": [
    {
     "data": {
      "text/plain": [
       "True"
      ]
     },
     "execution_count": 1,
     "metadata": {},
     "output_type": "execute_result"
    }
   ],
   "source": [
    "from dotenv import load_dotenv\n",
    "import os\n",
    "import requests\n",
    "from mistralai import Mistral\n",
    "import numpy as np\n",
    "\n",
    "load_dotenv()"
   ]
  },
  {
   "cell_type": "code",
   "execution_count": 2,
   "id": "7c9a79c1",
   "metadata": {},
   "outputs": [],
   "source": [
    "MISTRAL_API_KEY = os.getenv(\"MISTRAL_API\")\n",
    "\n",
    "client = Mistral(api_key=MISTRAL_API_KEY)"
   ]
  },
  {
   "cell_type": "markdown",
   "id": "fead7b2a",
   "metadata": {},
   "source": [
    "## Document Parsing\n"
   ]
  },
  {
   "cell_type": "code",
   "execution_count": null,
   "id": "ad0e6a79",
   "metadata": {},
   "outputs": [],
   "source": [
    "import os, sys, subprocess\n",
    "import fitz\n",
    "from pathlib import Path\n",
    "\n",
    "pdf_path = Path(\"data\") / \"ai_act.pdf\"\n",
    "assert pdf_path.exists(), f\"PDF not found at {pdf_path}\"\n",
    "\n",
    "with fitz.open(pdf_path) as doc:\n",
    "    pages_text = []\n",
    "    for page in doc:\n",
    "        pages_text.append(page.get_text(\"text\"))\n",
    "text = \"\\n\\n\".join(pages_text)"
   ]
  },
  {
   "cell_type": "code",
   "execution_count": 6,
   "id": "1c30c555",
   "metadata": {},
   "outputs": [],
   "source": [
    "from langchain_text_splitters import RecursiveCharacterTextSplitter\n",
    "\n",
    "splitter = RecursiveCharacterTextSplitter(\n",
    "    chunk_size=1200,\n",
    "    chunk_overlap=200,\n",
    "    separators=[\"\\n\\n\", \"\\n\", \" \", \"\", \".\", \"?\", \"!\"],\n",
    ")\n",
    "chunks = splitter.split_text(text)"
   ]
  },
  {
   "cell_type": "code",
   "execution_count": null,
   "id": "5a4e8c1f",
   "metadata": {},
   "outputs": [
    {
     "name": "stdout",
     "output_type": "stream",
     "text": [
      "Total characters: 600,061\n",
      "Total pages (approx): 144\n",
      "Chunks: 639 | avg: 1040 | min: 171 | max: 1199\n",
      "Sample chunk 0:\n",
      " REGULATION (EU) 2024/1689 OF THE EUROPEAN PARLIAMENT AND OF THE COUNCIL\n",
      "of 13 June 2024\n",
      "laying down harmonised rules on artificial intelligence and amending Regulations (EC) No 300/2008, \n",
      "(EU) No 167/2013, (EU) No 168/2013, (EU) 2018/858, (EU) 2018/1139 and (EU) 2019/2144 and \n",
      "Directives 2014/90/EU, (EU) 2016/797 and (EU) 2020/1828 (Artificial Intelligence Act)\n",
      "(Text with EEA relevance)\n",
      "THE EUROPEAN PARLIAMENT AND THE COUNCIL OF THE EUROPEAN UNION,\n",
      "Having regard to the Treaty on the Functioning \n"
     ]
    }
   ],
   "source": [
    "print(f\"Total characters: {len(text):,}\")\n",
    "print(\n",
    "    f\"Total pages (approx): {'unknown' if 'pages_text' not in globals() else len(pages_text)}\"\n",
    ")\n",
    "lengths = [len(c) for c in chunks]\n",
    "print(\n",
    "    f\"Chunks: {len(chunks)} | avg: {int(np.mean(lengths)) if lengths else 0} | min: {min(lengths) if lengths else 0} | max: {max(lengths) if lengths else 0}\"\n",
    ")\n",
    "print(\"Sample chunk 0:\\n\", chunks[0][:500] if chunks else \"<no chunks>\")"
   ]
  },
  {
   "cell_type": "code",
   "execution_count": null,
   "id": "fa303d30",
   "metadata": {},
   "outputs": [
    {
     "name": "stdout",
     "output_type": "stream",
     "text": [
      "Sampling first 50 chunks out of 639 total chunks\n",
      "Sample chunk lengths: min=398, max=1196, avg=1077\n"
     ]
    }
   ],
   "source": [
    "# Sample the first 100 chunks for inspection\n",
    "sample_chunks = chunks[:50]\n",
    "print(f\"Sampling first {len(sample_chunks)} chunks out of {len(chunks)} total chunks\")\n",
    "print(\n",
    "    f\"Sample chunk lengths: min={min(len(c) for c in sample_chunks)}, max={max(len(c) for c in sample_chunks)}, avg={int(np.mean([len(c) for c in sample_chunks]))}\"\n",
    ")\n"
   ]
  },
  {
   "cell_type": "code",
   "execution_count": 12,
   "id": "6ef1f8dd",
   "metadata": {},
   "outputs": [
    {
     "data": {
      "text/plain": [
       "['REGULATION (EU) 2024/1689 OF THE EUROPEAN PARLIAMENT AND OF THE COUNCIL\\nof 13 June 2024\\nlaying down harmonised rules on artificial intelligence and amending Regulations (EC) No 300/2008, \\n(EU) No 167/2013, (EU) No 168/2013, (EU) 2018/858, (EU) 2018/1139 and (EU) 2019/2144 and \\nDirectives 2014/90/EU, (EU) 2016/797 and (EU) 2020/1828 (Artificial Intelligence Act)\\n(Text with EEA relevance)\\nTHE EUROPEAN PARLIAMENT AND THE COUNCIL OF THE EUROPEAN UNION,\\nHaving regard to the Treaty on the Functioning of the European Union, and in particular Articles 16 and 114 thereof,\\nHaving regard to the proposal from the European Commission,\\nAfter transmission of the draft legislative act to the national parliaments,\\nHaving regard to the opinion of the European Economic and Social Committee (1),\\nHaving regard to the opinion of the European Central Bank (2),\\nHaving regard to the opinion of the Committee of the Regions (3),\\nActing in accordance with the ordinary legislative procedure (4),\\nWhereas:\\n(1)\\nThe purpose of this Regulation is to improve the functioning of the internal market by laying down a uniform legal',\n",
       " 'Acting in accordance with the ordinary legislative procedure (4),\\nWhereas:\\n(1)\\nThe purpose of this Regulation is to improve the functioning of the internal market by laying down a uniform legal \\nframework in particular for the development, the placing on the market, the putting into service and the use of \\nartificial intelligence systems (AI systems) in the Union, in accordance with Union values, to promote the uptake of \\nhuman centric and trustworthy artificial intelligence (AI) while ensuring a high level of protection of health, safety, \\nfundamental rights as enshrined in the Charter of Fundamental Rights of the European Union (the ‘Charter’), \\nincluding democracy, the rule of law and environmental protection, to protect against the harmful effects of AI \\nsystems in the Union, and to support innovation. This Regulation ensures the free movement, cross-border, of \\nAI-based goods and services, thus preventing Member States from imposing restrictions on the development, \\nmarketing and use of AI systems, unless explicitly authorised by this Regulation.\\n(2)\\nThis Regulation should be applied in accordance with the values of the Union enshrined as in the Charter, facilitating',\n",
       " '(2)\\nThis Regulation should be applied in accordance with the values of the Union enshrined as in the Charter, facilitating \\nthe protection of natural persons, undertakings, democracy, the rule of law and environmental protection, while \\nboosting innovation and employment and making the Union a leader in the uptake of trustworthy AI.\\n(3)\\nAI systems can be easily deployed in a large variety of sectors of the economy and many parts of society, including \\nacross borders, and can easily circulate throughout the Union. Certain Member States have already explored the \\nadoption of national rules to ensure that AI is trustworthy and safe and is developed and used in accordance with \\nfundamental rights obligations. Diverging national rules may lead to the fragmentation of the internal market and \\nmay decrease legal certainty for operators that develop, import or use AI systems. A consistent and high level of \\nprotection throughout the Union should therefore be ensured in order to achieve trustworthy AI, while divergences \\nhampering the free circulation, innovation, deployment and the uptake of AI systems and related products and',\n",
       " 'hampering the free circulation, innovation, deployment and the uptake of AI systems and related products and \\nservices within the internal market should be prevented by laying down uniform obligations for operators and \\nOfficial Journal \\nof the European Union\\nEN \\nL series\\n2024/1689\\n12.7.2024\\nELI: http://data.europa.eu/eli/reg/2024/1689/oj\\n1/144\\n(1)\\nOJ C 517, 22.12.2021, p. 56.\\n(2)\\nOJ C 115, 11.3.2022, p. 5.\\n(3)\\nOJ C 97, 28.2.2022, p. 60.\\n(4)\\nPosition of the European Parliament of 13 March 2024 (not yet published in the Official Journal) and decision of the Council of \\n21 May 2024.',\n",
       " 'guaranteeing the uniform protection of overriding reasons of public interest and of rights of persons throughout the \\ninternal market on the basis of Article 114 of the Treaty on the Functioning of the European Union (TFEU). To the \\nextent that this Regulation contains specific rules on the protection of individuals with regard to the processing of \\npersonal data concerning restrictions of the use of AI systems for remote biometric identification for the purpose of \\nlaw enforcement, of the use of AI systems for risk assessments of natural persons for the purpose of law \\nenforcement and of the use of AI systems of biometric categorisation for the purpose of law enforcement, it is \\nappropriate to base this Regulation, in so far as those specific rules are concerned, on Article 16 TFEU. In light of \\nthose specific rules and the recourse to Article 16 TFEU, it is appropriate to consult the European Data Protection \\nBoard.\\n(4)\\nAI is a fast evolving family of technologies that contributes to a wide array of economic, environmental and societal \\nbenefits across the entire spectrum of industries and social activities. By improving prediction, optimising operations',\n",
       " 'benefits across the entire spectrum of industries and social activities. By improving prediction, optimising operations \\nand resource allocation, and personalising digital solutions available for individuals and organisations, the use of AI \\ncan provide key competitive advantages to undertakings and support socially and environmentally beneficial \\noutcomes, for example in healthcare, agriculture, food safety, education and training, media, sports, culture, \\ninfrastructure management, energy, transport and logistics, public services, security, justice, resource and energy \\nefficiency, environmental monitoring, the conservation and restoration of biodiversity and ecosystems and climate \\nchange mitigation and adaptation.\\n(5)\\nAt the same time, depending on the circumstances regarding its specific application, use, and level of technological \\ndevelopment, AI may generate risks and cause harm to public interests and fundamental rights that are protected by \\nUnion law. Such harm might be material or immaterial, including physical, psychological, societal or economic \\nharm.\\n(6)',\n",
       " 'Union law. Such harm might be material or immaterial, including physical, psychological, societal or economic \\nharm.\\n(6)\\nGiven the major impact that AI can have on society and the need to build trust, it is vital for AI and its regulatory \\nframework to be developed in accordance with Union values as enshrined in Article 2 of the Treaty on European \\nUnion (TEU), the fundamental rights and freedoms enshrined in the Treaties and, pursuant to Article 6 TEU, the \\nCharter. As a prerequisite, AI should be a human-centric technology. It should serve as a tool for people, with the \\nultimate aim of increasing human well-being.\\n(7)\\nIn order to ensure a consistent and high level of protection of public interests as regards health, safety and \\nfundamental rights, common rules for high-risk AI systems should be established. Those rules should be consistent \\nwith the Charter, non-discriminatory and in line with the Union’s international trade commitments. They should \\nalso take into account the European Declaration on Digital Rights and Principles for the Digital Decade and the \\nEthics guidelines for trustworthy AI of the High-Level Expert Group on Artificial Intelligence (AI HLEG).\\n(8)',\n",
       " 'Ethics guidelines for trustworthy AI of the High-Level Expert Group on Artificial Intelligence (AI HLEG).\\n(8)\\nA Union legal framework laying down harmonised rules on AI is therefore needed to foster the development, use \\nand uptake of AI in the internal market that at the same time meets a high level of protection of public interests, such \\nas health and safety and the protection of fundamental rights, including democracy, the rule of law and \\nenvironmental protection as recognised and protected by Union law. To achieve that objective, rules regulating the \\nplacing on the market, the putting into service and the use of certain AI systems should be laid down, thus ensuring \\nthe smooth functioning of the internal market and allowing those systems to benefit from the principle of free \\nmovement of goods and services. Those rules should be clear and robust in protecting fundamental rights, \\nsupportive of new innovative solutions, enabling a European ecosystem of public and private actors creating AI \\nsystems in line with Union values and unlocking the potential of the digital transformation across all regions of the',\n",
       " 'systems in line with Union values and unlocking the potential of the digital transformation across all regions of the \\nUnion. By laying down those rules as well as measures in support of innovation with a particular focus on small and \\nmedium enterprises (SMEs), including startups, this Regulation supports the objective of promoting the European \\nhuman-centric approach to AI and being a global leader in the development of secure, trustworthy and ethical AI as \\nstated by the European Council (5), and it ensures the protection of ethical principles, as specifically requested by the \\nEuropean Parliament (6).\\nEN\\nOJ L, 12.7.2024\\n2/144\\nELI: http://data.europa.eu/eli/reg/2024/1689/oj\\n(5)\\nEuropean Council, Special meeting of the European Council (1 and 2 October 2020) — Conclusions, EUCO 13/20, 2020, p. 6.\\n(6)\\nEuropean Parliament resolution of 20 October 2020 with recommendations to the Commission on a framework of ethical aspects \\nof artificial intelligence, robotics and related technologies, 2020/2012(INL).',\n",
       " '(9)\\nHarmonised rules applicable to the placing on the market, the putting into service and the use of high-risk AI \\nsystems should be laid down consistently with Regulation (EC) No 765/2008 of the European Parliament and of the \\nCouncil (7), Decision No 768/2008/EC of the European Parliament and of the Council (8) and Regulation (EU) \\n2019/1020 of the European Parliament and of the Council (9) (New Legislative Framework). The harmonised rules \\nlaid down in this Regulation should apply across sectors and, in line with the New Legislative Framework, should be \\nwithout prejudice to existing Union law, in particular on data protection, consumer protection, fundamental rights, \\nemployment, and protection of workers, and product safety, to which this Regulation is complementary. As \\na consequence, all rights and remedies provided for by such Union law to consumers, and other persons on whom \\nAI systems may have a negative impact, including as regards the compensation of possible damages pursuant to \\nCouncil Directive 85/374/EEC (10) remain unaffected and fully applicable. Furthermore, in the context of',\n",
       " 'Council Directive 85/374/EEC (10) remain unaffected and fully applicable. Furthermore, in the context of \\nemployment and protection of workers, this Regulation should therefore not affect Union law on social policy and \\nnational labour law, in compliance with Union law, concerning employment and working conditions, including \\nhealth and safety at work and the relationship between employers and workers. This Regulation should also not \\naffect the exercise of fundamental rights as recognised in the Member States and at Union level, including the right or \\nfreedom to strike or to take other action covered by the specific industrial relations systems in Member States as well \\nas the right to negotiate, to conclude and enforce collective agreements or to take collective action in accordance \\nwith national law. This Regulation should not affect the provisions aiming to improve working conditions in \\nplatform work laid down in a Directive of the European Parliament and of the Council on improving working \\nconditions in platform work. Moreover, this Regulation aims to strengthen the effectiveness of such existing rights',\n",
       " 'conditions in platform work. Moreover, this Regulation aims to strengthen the effectiveness of such existing rights \\nand remedies by establishing specific requirements and obligations, including in respect of the transparency, \\ntechnical documentation and record-keeping of AI systems. Furthermore, the obligations placed on various \\noperators involved in the AI value chain under this Regulation should apply without prejudice to national law, in \\ncompliance with Union law, having the effect of limiting the use of certain AI systems where such law falls outside \\nthe scope of this Regulation or pursues legitimate public interest objectives other than those pursued by this \\nRegulation. For example, national labour law and law on the protection of minors, namely persons below the age of \\n18, taking into account the UNCRC General Comment No 25 (2021) on children’s rights in relation to the digital \\nenvironment, insofar as they are not specific to AI systems and pursue other legitimate public interest objectives, \\nshould not be affected by this Regulation.\\n(10)\\nThe fundamental right to the protection of personal data is safeguarded in particular by Regulations (EU)',\n",
       " 'should not be affected by this Regulation.\\n(10)\\nThe fundamental right to the protection of personal data is safeguarded in particular by Regulations (EU) \\n2016/679 (11) and (EU) 2018/1725 (12) of the European Parliament and of the Council and Directive (EU) 2016/680 \\nof the European Parliament and of the Council (13). Directive 2002/58/EC of the European Parliament and of the \\nCouncil (14) additionally protects private life and the confidentiality of communications, including by way of \\nproviding conditions for any storing of personal and non-personal data in, and access from, terminal equipment. \\nThose Union legal acts provide the basis for sustainable and responsible data processing, including where data sets \\ninclude a mix of personal and non-personal data. This Regulation does not seek to affect the application of existing \\nUnion law governing the processing of personal data, including the tasks and powers of the independent supervisory \\nauthorities competent to monitor compliance with those instruments. It also does not affect the obligations of \\nproviders and deployers of AI systems in their role as data controllers or processors stemming from Union or',\n",
       " 'providers and deployers of AI systems in their role as data controllers or processors stemming from Union or \\nnational law on the protection of personal data in so far as the design, the development or the use of AI systems \\ninvolves the processing of personal data. It is also appropriate to clarify that data subjects continue to enjoy all the \\nOJ L, 12.7.2024\\nEN\\nELI: http://data.europa.eu/eli/reg/2024/1689/oj\\n3/144\\n(7)\\nRegulation (EC) No 765/2008 of the European Parliament and of the Council of 9 July 2008 setting out the requirements for \\naccreditation and repealing Regulation (EEC) No 339/93 (OJ L 218, 13.8.2008, p. 30).\\n(8)\\nDecision No 768/2008/EC of the European Parliament and of the Council of 9 July 2008 on a common framework for the \\nmarketing of products, and repealing Council Decision 93/465/EEC (OJ L 218, 13.8.2008, p. 82).\\n(9)\\nRegulation (EU) 2019/1020 of the European Parliament and of the Council of 20 June 2019 on market surveillance and compliance \\nof products and amending Directive 2004/42/EC and Regulations (EC) No 765/2008 and (EU) No 305/2011 (OJ L 169, 25.6.2019, \\np. 1).\\n(10)',\n",
       " 'of products and amending Directive 2004/42/EC and Regulations (EC) No 765/2008 and (EU) No 305/2011 (OJ L 169, 25.6.2019, \\np. 1).\\n(10)\\nCouncil Directive 85/374/EEC of 25 July 1985 on the approximation of the laws, regulations and administrative provisions of the \\nMember States concerning liability for defective products (OJ L 210, 7.8.1985, p. 29).\\n(11)\\nRegulation (EU) 2016/679 of the European Parliament and of the Council of 27 April 2016 on the protection of natural persons \\nwith regard to the processing of personal data and on the free movement of such data, and repealing Directive 95/46/EC (General \\nData Protection Regulation) (OJ L 119, 4.5.2016, p. 1).\\n(12)\\nRegulation (EU) 2018/1725 of the European Parliament and of the Council of 23 October 2018 on the protection of natural \\npersons with regard to the processing of personal data by the Union institutions, bodies, offices and agencies and on the free \\nmovement of such data, and repealing Regulation (EC) No 45/2001 and Decision No 1247/2002/EC (OJ L 295, 21.11.2018, p. 39).\\n(13)\\nDirective (EU) 2016/680 of the European Parliament and of the Council of 27 April 2016 on the protection of natural persons with',\n",
       " '(13)\\nDirective (EU) 2016/680 of the European Parliament and of the Council of 27 April 2016 on the protection of natural persons with \\nregard to the processing of personal data by competent authorities for the purposes of the prevention, investigation, detection or \\nprosecution of criminal offences or the execution of criminal penalties, and on the free movement of such data, and repealing \\nCouncil Framework Decision 2008/977/JHA (OJ L 119, 4.5.2016, p. 89).\\n(14)\\nDirective 2002/58/EC of the European Parliament and of the Council of 12 July 2002 concerning the processing of personal data \\nand the protection of privacy in the electronic communications sector (Directive on privacy and electronic communications) (OJ \\nL 201, 31.7.2002, p. 37).',\n",
       " 'rights and guarantees awarded to them by such Union law, including the rights related to solely automated individual \\ndecision-making, including profiling. Harmonised rules for the placing on the market, the putting into service and \\nthe use of AI systems established under this Regulation should facilitate the effective implementation and enable the \\nexercise of the data subjects’ rights and other remedies guaranteed under Union law on the protection of personal \\ndata and of other fundamental rights.\\n(11)\\nThis Regulation should be without prejudice to the provisions regarding the liability of providers of intermediary \\nservices as set out in Regulation (EU) 2022/2065 of the European Parliament and of the Council (15).\\n(12)\\nThe notion of ‘AI system’ in this Regulation should be clearly defined and should be closely aligned with the work of \\ninternational organisations working on AI to ensure legal certainty, facilitate international convergence and wide \\nacceptance, while providing the flexibility to accommodate the rapid technological developments in this field. \\nMoreover, the definition should be based on key characteristics of AI systems that distinguish it from simpler',\n",
       " 'Moreover, the definition should be based on key characteristics of AI systems that distinguish it from simpler \\ntraditional software systems or programming approaches and should not cover systems that are based on the rules \\ndefined solely by natural persons to automatically execute operations. A key characteristic of AI systems is their \\ncapability to infer. This capability to infer refers to the process of obtaining the outputs, such as predictions, content, \\nrecommendations, or decisions, which can influence physical and virtual environments, and to a capability of AI \\nsystems to derive models or algorithms, or both, from inputs or data. The techniques that enable inference while \\nbuilding an AI system include machine learning approaches that learn from data how to achieve certain objectives, \\nand logic- and knowledge-based approaches that infer from encoded knowledge or symbolic representation of the \\ntask to be solved. The capacity of an AI system to infer transcends basic data processing by enabling learning, \\nreasoning or modelling. The term ‘machine-based’ refers to the fact that AI systems run on machines. The reference',\n",
       " 'reasoning or modelling. The term ‘machine-based’ refers to the fact that AI systems run on machines. The reference \\nto explicit or implicit objectives underscores that AI systems can operate according to explicit defined objectives or \\nto implicit objectives. The objectives of the AI system may be different from the intended purpose of the AI system \\nin a specific context. For the purposes of this Regulation, environments should be understood to be the contexts in \\nwhich the AI systems operate, whereas outputs generated by the AI system reflect different functions performed by \\nAI systems and include predictions, content, recommendations or decisions. AI systems are designed to operate with \\nvarying levels of autonomy, meaning that they have some degree of independence of actions from human \\ninvolvement and of capabilities to operate without human intervention. The adaptiveness that an AI system could \\nexhibit after deployment, refers to self-learning capabilities, allowing the system to change while in use. AI systems \\ncan be used on a stand-alone basis or as a component of a product, irrespective of whether the system is physically',\n",
       " 'can be used on a stand-alone basis or as a component of a product, irrespective of whether the system is physically \\nintegrated into the product (embedded) or serves the functionality of the product without being integrated therein \\n(non-embedded).\\n(13)\\nThe notion of ‘deployer’ referred to in this Regulation should be interpreted as any natural or legal person, including \\na public authority, agency or other body, using an AI system under its authority, except where the AI system is used \\nin the course of a personal non-professional activity. Depending on the type of AI system, the use of the system may \\naffect persons other than the deployer.\\n(14)\\nThe notion of ‘biometric data’ used in this Regulation should be interpreted in light of the notion of biometric data \\nas defined in Article 4, point (14) of Regulation (EU) 2016/679, Article 3, point (18) of Regulation (EU) 2018/1725 \\nand Article 3, point (13) of Directive (EU) 2016/680. Biometric data can allow for the authentication, identification \\nor categorisation of natural persons and for the recognition of emotions of natural persons.\\n(15)',\n",
       " 'or categorisation of natural persons and for the recognition of emotions of natural persons.\\n(15)\\nThe notion of ‘biometric identification’ referred to in this Regulation should be defined as the automated recognition \\nof physical, physiological and behavioural human features such as the face, eye movement, body shape, voice, \\nprosody, gait, posture, heart rate, blood pressure, odour, keystrokes characteristics, for the purpose of establishing an \\nindividual’s identity by comparing biometric data of that individual to stored biometric data of individuals in \\na reference database, irrespective of whether the individual has given its consent or not. This excludes AI systems \\nintended to be used for biometric verification, which includes authentication, whose sole purpose is to confirm that \\na specific natural person is the person he or she claims to be and to confirm the identity of a natural person for the \\nsole purpose of having access to a service, unlocking a device or having security access to premises.\\nEN\\nOJ L, 12.7.2024\\n4/144\\nELI: http://data.europa.eu/eli/reg/2024/1689/oj\\n(15)',\n",
       " 'sole purpose of having access to a service, unlocking a device or having security access to premises.\\nEN\\nOJ L, 12.7.2024\\n4/144\\nELI: http://data.europa.eu/eli/reg/2024/1689/oj\\n(15)\\nRegulation (EU) 2022/2065 of the European Parliament and of the Council of 19 October 2022 on a Single Market For Digital \\nServices and amending Directive 2000/31/EC (Digital Services Act) (OJ L 277, 27.10.2022, p. 1).',\n",
       " '(16)\\nThe notion of ‘biometric categorisation’ referred to in this Regulation should be defined as assigning natural persons \\nto specific categories on the basis of their biometric data. Such specific categories can relate to aspects such as sex, \\nage, hair colour, eye colour, tattoos, behavioural or personality traits, language, religion, membership of a national \\nminority, sexual or political orientation. This does not include biometric categorisation systems that are a purely \\nancillary feature intrinsically linked to another commercial service, meaning that the feature cannot, for objective \\ntechnical reasons, be used without the principal service, and the integration of that feature or functionality is not \\na means to circumvent the applicability of the rules of this Regulation. For example, filters categorising facial or body \\nfeatures used on online marketplaces could constitute such an ancillary feature as they can be used only in relation to \\nthe principal service which consists in selling a product by allowing the consumer to preview the display of the \\nproduct on him or herself and help the consumer to make a purchase decision. Filters used on online social network',\n",
       " 'product on him or herself and help the consumer to make a purchase decision. Filters used on online social network \\nservices which categorise facial or body features to allow users to add or modify pictures or videos could also be \\nconsidered to be ancillary feature as such filter cannot be used without the principal service of the social network \\nservices consisting in the sharing of content online.\\n(17)\\nThe notion of ‘remote biometric identification system’ referred to in this Regulation should be defined functionally, \\nas an AI system intended for the identification of natural persons without their active involvement, typically at \\na distance, through the comparison of a person’s biometric data with the biometric data contained in a reference \\ndatabase, irrespectively of the particular technology, processes or types of biometric data used. Such remote \\nbiometric identification systems are typically used to perceive multiple persons or their behaviour simultaneously in \\norder to facilitate significantly the identification of natural persons without their active involvement. This excludes',\n",
       " 'order to facilitate significantly the identification of natural persons without their active involvement. This excludes \\nAI systems intended to be used for biometric verification, which includes authentication, the sole purpose of which \\nis to confirm that a specific natural person is the person he or she claims to be and to confirm the identity of \\na natural person for the sole purpose of having access to a service, unlocking a device or having security access to \\npremises. That exclusion is justified by the fact that such systems are likely to have a minor impact on fundamental \\nrights of natural persons compared to the remote biometric identification systems which may be used for the \\nprocessing of the biometric data of a large number of persons without their active involvement. In the case of \\n‘real-time’ systems, the capturing of the biometric data, the comparison and the identification occur all \\ninstantaneously, near-instantaneously or in any event without a significant delay. In this regard, there should be no \\nscope for circumventing the rules of this Regulation on the ‘real-time’ use of the AI systems concerned by providing',\n",
       " 'scope for circumventing the rules of this Regulation on the ‘real-time’ use of the AI systems concerned by providing \\nfor minor delays. ‘Real-time’ systems involve the use of ‘live’ or ‘near-live’ material, such as video footage, generated \\nby a camera or other device with similar functionality. In the case of ‘post’ systems, in contrast, the biometric data \\nhas already been captured and the comparison and identification occur only after a significant delay. This involves \\nmaterial, such as pictures or video footage generated by closed circuit television cameras or private devices, which \\nhas been generated before the use of the system in respect of the natural persons concerned.\\n(18)\\nThe notion of ‘emotion recognition system’ referred to in this Regulation should be defined as an AI system for the \\npurpose of identifying or inferring emotions or intentions of natural persons on the basis of their biometric data. \\nThe notion refers to emotions or intentions such as happiness, sadness, anger, surprise, disgust, embarrassment, \\nexcitement, shame, contempt, satisfaction and amusement. It does not include physical states, such as pain or',\n",
       " 'excitement, shame, contempt, satisfaction and amusement. It does not include physical states, such as pain or \\nfatigue, including, for example, systems used in detecting the state of fatigue of professional pilots or drivers for the \\npurpose of preventing accidents. This does also not include the mere detection of readily apparent expressions, \\ngestures or movements, unless they are used for identifying or inferring emotions. Those expressions can be basic \\nfacial expressions, such as a frown or a smile, or gestures such as the movement of hands, arms or head, or \\ncharacteristics of a person’s voice, such as a raised voice or whispering.\\n(19)\\nFor the purposes of this Regulation the notion of ‘publicly accessible space’ should be understood as referring to any \\nphysical space that is accessible to an undetermined number of natural persons, and irrespective of whether the \\nspace in question is privately or publicly owned, irrespective of the activity for which the space may be used, such as \\nfor commerce, for example, shops, restaurants, cafés; for services, for example, banks, professional activities,',\n",
       " 'for commerce, for example, shops, restaurants, cafés; for services, for example, banks, professional activities, \\nhospitality; for sport, for example, swimming pools, gyms, stadiums; for transport, for example, bus, metro and \\nrailway stations, airports, means of transport; for entertainment, for example, cinemas, theatres, museums, concert \\nand conference halls; or for leisure or otherwise, for example, public roads and squares, parks, forests, playgrounds. \\nA space should also be classified as being publicly accessible if, regardless of potential capacity or security \\nrestrictions, access is subject to certain predetermined conditions which can be fulfilled by an undetermined number \\nof persons, such as the purchase of a ticket or title of transport, prior registration or having a certain age. In contrast, \\na space should not be considered to be publicly accessible if access is limited to specific and defined natural persons \\nthrough either Union or national law directly related to public safety or security or through the clear manifestation \\nOJ L, 12.7.2024\\nEN\\nELI: http://data.europa.eu/eli/reg/2024/1689/oj\\n5/144',\n",
       " 'of will by the person having the relevant authority over the space. The factual possibility of access alone, such as an \\nunlocked door or an open gate in a fence, does not imply that the space is publicly accessible in the presence of \\nindications or circumstances suggesting the contrary, such as. signs prohibiting or restricting access. Company and \\nfactory premises, as well as offices and workplaces that are intended to be accessed only by relevant employees and \\nservice providers, are spaces that are not publicly accessible. Publicly accessible spaces should not include prisons or \\nborder control. Some other spaces may comprise both publicly accessible and non-publicly accessible spaces, such as \\nthe hallway of a private residential building necessary to access a doctor’s office or an airport. Online spaces are not \\ncovered, as they are not physical spaces. Whether a given space is accessible to the public should however be \\ndetermined on a case-by-case basis, having regard to the specificities of the individual situation at hand.\\n(20)\\nIn order to obtain the greatest benefits from AI systems while protecting fundamental rights, health and safety and to',\n",
       " '(20)\\nIn order to obtain the greatest benefits from AI systems while protecting fundamental rights, health and safety and to \\nenable democratic control, AI literacy should equip providers, deployers and affected persons with the necessary \\nnotions to make informed decisions regarding AI systems. Those notions may vary with regard to the relevant \\ncontext and can include understanding the correct application of technical elements during the AI system’s \\ndevelopment phase, the measures to be applied during its use, the suitable ways in which to interpret the AI system’s \\noutput, and, in the case of affected persons, the knowledge necessary to understand how decisions taken with the \\nassistance of AI will have an impact on them. In the context of the application this Regulation, AI literacy should \\nprovide all relevant actors in the AI value chain with the insights required to ensure the appropriate compliance and \\nits correct enforcement. Furthermore, the wide implementation of AI literacy measures and the introduction of \\nappropriate follow-up actions could contribute to improving working conditions and ultimately sustain the',\n",
       " 'appropriate follow-up actions could contribute to improving working conditions and ultimately sustain the \\nconsolidation, and innovation path of trustworthy AI in the Union. The European Artificial Intelligence Board (the \\n‘Board’) should support the Commission, to promote AI literacy tools, public awareness and understanding of the \\nbenefits, risks, safeguards, rights and obligations in relation to the use of AI systems. In cooperation with the relevant \\nstakeholders, the Commission and the Member States should facilitate the drawing up of voluntary codes of conduct \\nto advance AI literacy among persons dealing with the development, operation and use of AI.\\n(21)\\nIn order to ensure a level playing field and an effective protection of rights and freedoms of individuals across the \\nUnion, the rules established by this Regulation should apply to providers of AI systems in a non-discriminatory \\nmanner, irrespective of whether they are established within the Union or in a third country, and to deployers of AI \\nsystems established within the Union.\\n(22)\\nIn light of their digital nature, certain AI systems should fall within the scope of this Regulation even when they are',\n",
       " 'systems established within the Union.\\n(22)\\nIn light of their digital nature, certain AI systems should fall within the scope of this Regulation even when they are \\nnot placed on the market, put into service, or used in the Union. This is the case, for example, where an operator \\nestablished in the Union contracts certain services to an operator established in a third country in relation to an \\nactivity to be performed by an AI system that would qualify as high-risk. In those circumstances, the AI system used \\nin a third country by the operator could process data lawfully collected in and transferred from the Union, and \\nprovide to the contracting operator in the Union the output of that AI system resulting from that processing, \\nwithout that AI system being placed on the market, put into service or used in the Union. To prevent the \\ncircumvention of this Regulation and to ensure an effective protection of natural persons located in the Union, this \\nRegulation should also apply to providers and deployers of AI systems that are established in a third country, to the \\nextent the output produced by those systems is intended to be used in the Union. Nonetheless, to take into account',\n",
       " 'extent the output produced by those systems is intended to be used in the Union. Nonetheless, to take into account \\nexisting arrangements and special needs for future cooperation with foreign partners with whom information and \\nevidence is exchanged, this Regulation should not apply to public authorities of a third country and international \\norganisations when acting in the framework of cooperation or international agreements concluded at Union or \\nnational level for law enforcement and judicial cooperation with the Union or the Member States, provided that the \\nrelevant third country or international organisation provides adequate safeguards with respect to the protection of \\nfundamental rights and freedoms of individuals. Where relevant, this may cover activities of entities entrusted by the \\nthird countries to carry out specific tasks in support of such law enforcement and judicial cooperation. Such \\nframework for cooperation or agreements have been established bilaterally between Member States and third \\ncountries or between the European Union, Europol and other Union agencies and third countries and international',\n",
       " 'countries or between the European Union, Europol and other Union agencies and third countries and international \\norganisations. The authorities competent for supervision of the law enforcement and judicial authorities under this \\nRegulation should assess whether those frameworks for cooperation or international agreements include adequate \\nsafeguards with respect to the protection of fundamental rights and freedoms of individuals. Recipient national \\nEN\\nOJ L, 12.7.2024\\n6/144\\nELI: http://data.europa.eu/eli/reg/2024/1689/oj',\n",
       " 'authorities and Union institutions, bodies, offices and agencies making use of such outputs in the Union remain \\naccountable to ensure their use complies with Union law. When those international agreements are revised or new \\nones are concluded in the future, the contracting parties should make utmost efforts to align those agreements with \\nthe requirements of this Regulation.\\n(23)\\nThis Regulation should also apply to Union institutions, bodies, offices and agencies when acting as a provider or \\ndeployer of an AI system.\\n(24)\\nIf, and insofar as, AI systems are placed on the market, put into service, or used with or without modification of such \\nsystems for military, defence or national security purposes, those should be excluded from the scope of this \\nRegulation regardless of which type of entity is carrying out those activities, such as whether it is a public or private \\nentity. As regards military and defence purposes, such exclusion is justified both by Article 4(2) TEU and by the \\nspecificities of the Member States’ and the common Union defence policy covered by Chapter 2 of Title V TEU that',\n",
       " 'specificities of the Member States’ and the common Union defence policy covered by Chapter 2 of Title V TEU that \\nare subject to public international law, which is therefore the more appropriate legal framework for the regulation of \\nAI systems in the context of the use of lethal force and other AI systems in the context of military and defence \\nactivities. As regards national security purposes, the exclusion is justified both by the fact that national security \\nremains the sole responsibility of Member States in accordance with Article 4(2) TEU and by the specific nature and \\noperational needs of national security activities and specific national rules applicable to those activities. Nonetheless, \\nif an AI system developed, placed on the market, put into service or used for military, defence or national security \\npurposes is used outside those temporarily or permanently for other purposes, for example, civilian or humanitarian \\npurposes, law enforcement or public security purposes, such a system would fall within the scope of this Regulation. \\nIn that case, the entity using the AI system for other than military, defence or national security purposes should',\n",
       " 'In that case, the entity using the AI system for other than military, defence or national security purposes should \\nensure the compliance of the AI system with this Regulation, unless the system is already compliant with this \\nRegulation. AI systems placed on the market or put into service for an excluded purpose, namely military, defence or \\nnational security, and one or more non-excluded purposes, such as civilian purposes or law enforcement, fall within \\nthe scope of this Regulation and providers of those systems should ensure compliance with this Regulation. In those \\ncases, the fact that an AI system may fall within the scope of this Regulation should not affect the possibility of \\nentities carrying out national security, defence and military activities, regardless of the type of entity carrying out \\nthose activities, to use AI systems for national security, military and defence purposes, the use of which is excluded \\nfrom the scope of this Regulation. An AI system placed on the market for civilian or law enforcement purposes \\nwhich is used with or without modification for military, defence or national security purposes should not fall within',\n",
       " 'which is used with or without modification for military, defence or national security purposes should not fall within \\nthe scope of this Regulation, regardless of the type of entity carrying out those activities.\\n(25)\\nThis Regulation should support innovation, should respect freedom of science, and should not undermine research \\nand development activity. It is therefore necessary to exclude from its scope AI systems and models specifically \\ndeveloped and put into service for the sole purpose of scientific research and development. Moreover, it is necessary \\nto ensure that this Regulation does not otherwise affect scientific research and development activity on AI systems or \\nmodels prior to being placed on the market or put into service. As regards product-oriented research, testing and \\ndevelopment activity regarding AI systems or models, the provisions of this Regulation should also not apply prior \\nto those systems and models being put into service or placed on the market. That exclusion is without prejudice to \\nthe obligation to comply with this Regulation where an AI system falling into the scope of this Regulation is placed',\n",
       " 'the obligation to comply with this Regulation where an AI system falling into the scope of this Regulation is placed \\non the market or put into service as a result of such research and development activity and to the application of \\nprovisions on AI regulatory sandboxes and testing in real world conditions. Furthermore, without prejudice to the \\nexclusion of AI systems specifically developed and put into service for the sole purpose of scientific research and \\ndevelopment, any other AI system that may be used for the conduct of any research and development activity should \\nremain subject to the provisions of this Regulation. In any event, any research and development activity should be \\ncarried out in accordance with recognised ethical and professional standards for scientific research and should be \\nconducted in accordance with applicable Union law.\\n(26)\\nIn order to introduce a proportionate and effective set of binding rules for AI systems, a clearly defined risk-based \\napproach should be followed. That approach should tailor the type and content of such rules to the intensity and',\n",
       " 'approach should be followed. That approach should tailor the type and content of such rules to the intensity and \\nscope of the risks that AI systems can generate. It is therefore necessary to prohibit certain unacceptable AI practices, \\nto lay down requirements for high-risk AI systems and obligations for the relevant operators, and to lay down \\ntransparency obligations for certain AI systems.\\nOJ L, 12.7.2024\\nEN\\nELI: http://data.europa.eu/eli/reg/2024/1689/oj\\n7/144',\n",
       " '(27)\\nWhile the risk-based approach is the basis for a proportionate and effective set of binding rules, it is important to \\nrecall the 2019 Ethics guidelines for trustworthy AI developed by the independent AI HLEG appointed by the \\nCommission. In those guidelines, the AI HLEG developed seven non-binding ethical principles for AI which are \\nintended to help ensure that AI is trustworthy and ethically sound. The seven principles include human agency and \\noversight; technical robustness and safety; privacy and data governance; transparency; diversity, non-discrimination \\nand fairness; societal and environmental well-being and accountability. Without prejudice to the legally binding \\nrequirements of this Regulation and any other applicable Union law, those guidelines contribute to the design of \\ncoherent, trustworthy and human-centric AI, in line with the Charter and with the values on which the Union is \\nfounded. According to the guidelines of the AI HLEG, human agency and oversight means that AI systems are \\ndeveloped and used as a tool that serves people, respects human dignity and personal autonomy, and that is',\n",
       " 'developed and used as a tool that serves people, respects human dignity and personal autonomy, and that is \\nfunctioning in a way that can be appropriately controlled and overseen by humans. Technical robustness and safety \\nmeans that AI systems are developed and used in a way that allows robustness in the case of problems and resilience \\nagainst attempts to alter the use or performance of the AI system so as to allow unlawful use by third parties, and \\nminimise unintended harm. Privacy and data governance means that AI systems are developed and used in \\naccordance with privacy and data protection rules, while processing data that meets high standards in terms of \\nquality and integrity. Transparency means that AI systems are developed and used in a way that allows appropriate \\ntraceability and explainability, while making humans aware that they communicate or interact with an AI system, as \\nwell as duly informing deployers of the capabilities and limitations of that AI system and affected persons about their \\nrights. Diversity, non-discrimination and fairness means that AI systems are developed and used in a way that',\n",
       " 'rights. Diversity, non-discrimination and fairness means that AI systems are developed and used in a way that \\nincludes diverse actors and promotes equal access, gender equality and cultural diversity, while avoiding \\ndiscriminatory impacts and unfair biases that are prohibited by Union or national law. Social and environmental \\nwell-being means that AI systems are developed and used in a sustainable and environmentally friendly manner as \\nwell as in a way to benefit all human beings, while monitoring and assessing the long-term impacts on the \\nindividual, society and democracy. The application of those principles should be translated, when possible, in the \\ndesign and use of AI models. They should in any case serve as a basis for the drafting of codes of conduct under this \\nRegulation. All stakeholders, including industry, academia, civil society and standardisation organisations, are \\nencouraged to take into account, as appropriate, the ethical principles for the development of voluntary best \\npractices and standards.\\n(28)\\nAside from the many beneficial uses of AI, it can also be misused and provide novel and powerful tools for',\n",
       " 'practices and standards.\\n(28)\\nAside from the many beneficial uses of AI, it can also be misused and provide novel and powerful tools for \\nmanipulative, exploitative and social control practices. Such practices are particularly harmful and abusive and \\nshould be prohibited because they contradict Union values of respect for human dignity, freedom, equality, \\ndemocracy and the rule of law and fundamental rights enshrined in the Charter, including the right to \\nnon-discrimination, to data protection and to privacy and the rights of the child.\\n(29)\\nAI-enabled manipulative techniques can be used to persuade persons to engage in unwanted behaviours, or to \\ndeceive them by nudging them into decisions in a way that subverts and impairs their autonomy, decision-making \\nand free choices. The placing on the market, the putting into service or the use of certain AI systems with the \\nobjective to or the effect of materially distorting human behaviour, whereby significant harms, in particular having \\nsufficiently important adverse impacts on physical, psychological health or financial interests are likely to occur, are',\n",
       " 'sufficiently important adverse impacts on physical, psychological health or financial interests are likely to occur, are \\nparticularly dangerous and should therefore be prohibited. Such AI systems deploy subliminal components such as \\naudio, image, video stimuli that persons cannot perceive, as those stimuli are beyond human perception, or other \\nmanipulative or deceptive techniques that subvert or impair person’s autonomy, decision-making or free choice in \\nways that people are not consciously aware of those techniques or, where they are aware of them, can still be \\ndeceived or are not able to control or resist them. This could be facilitated, for example, by machine-brain interfaces \\nor virtual reality as they allow for a higher degree of control of what stimuli are presented to persons, insofar as they \\nmay materially distort their behaviour in a significantly harmful manner. In addition, AI systems may also otherwise \\nexploit the vulnerabilities of a person or a specific group of persons due to their age, disability within the meaning of \\nDirective (EU) 2019/882 of the European Parliament and of the Council (16), or a specific social or economic',\n",
       " 'Directive (EU) 2019/882 of the European Parliament and of the Council (16), or a specific social or economic \\nsituation that is likely to make those persons more vulnerable to exploitation such as persons living in extreme \\npoverty, ethnic or religious minorities. Such AI systems can be placed on the market, put into service or used with \\nthe objective to or the effect of materially distorting the behaviour of a person and in a manner that causes or is \\nreasonably likely to cause significant harm to that or another person or groups of persons, including harms that may \\nbe accumulated over time and should therefore be prohibited. It may not be possible to assume that there is an \\nEN\\nOJ L, 12.7.2024\\n8/144\\nELI: http://data.europa.eu/eli/reg/2024/1689/oj\\n(16)\\nDirective (EU) 2019/882 of the European Parliament and of the Council of 17 April 2019 on the accessibility requirements for \\nproducts and services (OJ L 151, 7.6.2019, p. 70).',\n",
       " 'intention to distort behaviour where the distortion results from factors external to the AI system which are outside \\nthe control of the provider or the deployer, namely factors that may not be reasonably foreseeable and therefore not \\npossible for the provider or the deployer of the AI system to mitigate. In any case, it is not necessary for the provider \\nor the deployer to have the intention to cause significant harm, provided that such harm results from the \\nmanipulative or exploitative AI-enabled practices. The prohibitions for such AI practices are complementary to the \\nprovisions contained in Directive 2005/29/EC of the European Parliament and of the Council (17), in particular unfair \\ncommercial practices leading to economic or financial harms to consumers are prohibited under all circumstances, \\nirrespective of whether they are put in place through AI systems or otherwise. The prohibitions of manipulative and \\nexploitative practices in this Regulation should not affect lawful practices in the context of medical treatment such as \\npsychological treatment of a mental disease or physical rehabilitation, when those practices are carried out in',\n",
       " 'psychological treatment of a mental disease or physical rehabilitation, when those practices are carried out in \\naccordance with the applicable law and medical standards, for example explicit consent of the individuals or their \\nlegal representatives. In addition, common and legitimate commercial practices, for example in the field of \\nadvertising, that comply with the applicable law should not, in themselves, be regarded as constituting harmful \\nmanipulative AI-enabled practices.\\n(30)\\nBiometric categorisation systems that are based on natural persons’ biometric data, such as an individual person’s \\nface or fingerprint, to deduce or infer an individuals’ political opinions, trade union membership, religious or \\nphilosophical beliefs, race, sex life or sexual orientation should be prohibited. That prohibition should not cover the \\nlawful labelling, filtering or categorisation of biometric data sets acquired in line with Union or national law \\naccording to biometric data, such as the sorting of images according to hair colour or eye colour, which can for \\nexample be used in the area of law enforcement.\\n(31)',\n",
       " 'according to biometric data, such as the sorting of images according to hair colour or eye colour, which can for \\nexample be used in the area of law enforcement.\\n(31)\\nAI systems providing social scoring of natural persons by public or private actors may lead to discriminatory \\noutcomes and the exclusion of certain groups. They may violate the right to dignity and non-discrimination and the \\nvalues of equality and justice. Such AI systems evaluate or classify natural persons or groups thereof on the basis of \\nmultiple data points related to their social behaviour in multiple contexts or known, inferred or predicted personal \\nor personality characteristics over certain periods of time. The social score obtained from such AI systems may lead \\nto the detrimental or unfavourable treatment of natural persons or whole groups thereof in social contexts, which \\nare unrelated to the context in which the data was originally generated or collected or to a detrimental treatment that \\nis disproportionate or unjustified to the gravity of their social behaviour. AI systems entailing such unacceptable',\n",
       " 'is disproportionate or unjustified to the gravity of their social behaviour. AI systems entailing such unacceptable \\nscoring practices and leading to such detrimental or unfavourable outcomes should therefore be prohibited. That \\nprohibition should not affect lawful evaluation practices of natural persons that are carried out for a specific purpose \\nin accordance with Union and national law.\\n(32)\\nThe use of AI systems for ‘real-time’ remote biometric identification of natural persons in publicly accessible spaces \\nfor the purpose of law enforcement is particularly intrusive to the rights and freedoms of the concerned persons, to \\nthe extent that it may affect the private life of a large part of the population, evoke a feeling of constant surveillance \\nand indirectly dissuade the exercise of the freedom of assembly and other fundamental rights. Technical inaccuracies \\nof AI systems intended for the remote biometric identification of natural persons can lead to biased results and entail \\ndiscriminatory effects. Such possible biased results and discriminatory effects are particularly relevant with regard to']"
      ]
     },
     "execution_count": 12,
     "metadata": {},
     "output_type": "execute_result"
    }
   ],
   "source": [
    "sample_chunks"
   ]
  },
  {
   "cell_type": "markdown",
   "id": "22ca3411",
   "metadata": {},
   "source": [
    "## Data Ingestion\n"
   ]
  },
  {
   "cell_type": "code",
   "execution_count": null,
   "id": "d08cc6f2",
   "metadata": {},
   "outputs": [],
   "source": [
    "def get_text_embedding(input):\n",
    "    embeddings_batch_response = client.embeddings.create(\n",
    "        model=\"mistral-embed\", inputs=input\n",
    "    )\n",
    "    return embeddings_batch_response.data[0].embedding\n",
    "\n",
    "\n",
    "text_embeddings = np.array([get_text_embedding(chunk) for chunk in sample_chunks])"
   ]
  },
  {
   "cell_type": "code",
   "execution_count": 16,
   "id": "879d845d",
   "metadata": {},
   "outputs": [],
   "source": [
    "import faiss\n",
    "\n",
    "# Build vector search index for semantic similarity\n",
    "embedding_dimension = text_embeddings.shape[1]\n",
    "similarity_index = faiss.IndexFlatL2(embedding_dimension)\n",
    "similarity_index.add(text_embeddings)"
   ]
  },
  {
   "cell_type": "markdown",
   "id": "82477464",
   "metadata": {},
   "source": [
    "## Retrieval Step\n"
   ]
  },
  {
   "cell_type": "code",
   "execution_count": null,
   "id": "ef7c26c5",
   "metadata": {},
   "outputs": [],
   "source": [
    "# Query: find most relevant document chunks\n",
    "user_question = \"What is biometric categorisation?\"\n",
    "question_embedding = np.array([get_text_embedding(user_question)])\n",
    "\n",
    "# Search for the 2 most similar chunks using L2 distance\n",
    "distances, chunk_indices = similarity_index.search(question_embedding, k=3)\n",
    "\n",
    "# Retrieve the actual text chunks that are most relevant to the question\n",
    "most_relevant_chunks = [chunks[idx] for idx in chunk_indices[0]]"
   ]
  },
  {
   "cell_type": "markdown",
   "id": "2132a247",
   "metadata": {},
   "source": [
    "## Generation\n"
   ]
  },
  {
   "cell_type": "code",
   "execution_count": 28,
   "id": "5e2e3360",
   "metadata": {},
   "outputs": [],
   "source": [
    "prompt = f\"\"\" You are an AI Assistant specialised in Conformity & Regulation. You are given a question and a context. You need to answer the question based on the context.\n",
    "Context information is below.\n",
    "---------------------\n",
    "{most_relevant_chunks}\n",
    "---------------------\n",
    "Given the context information and not prior knowledge, answer the query.\n",
    "Query: {user_question}\n",
    "Answer:\n",
    "\"\"\""
   ]
  },
  {
   "cell_type": "code",
   "execution_count": null,
   "id": "9026400f",
   "metadata": {},
   "outputs": [
    {
     "data": {
      "text/plain": [
       "'Based on the provided context, **biometric categorisation** is defined as the process of assigning natural persons to specific categories based on their biometric data. These categories can include aspects such as:\\n\\n- Sex\\n- Age\\n- Hair colour\\n- Eye colour\\n- Tattoos\\n- Behavioural or personality traits\\n- Language\\n- Religion\\n- Membership of a national minority\\n- Sexual or political orientation\\n\\nHowever, the context specifies that this definition does **not** include biometric categorisation systems that are purely ancillary features intrinsically linked to another commercial service, where the feature cannot be used independently of the principal service. Examples of such ancillary features include filters on online marketplaces or social networks that allow users to preview products or modify images, as these are tied to the primary service (e.g., purchasing a product or sharing content).\\n\\nAdditionally, the context highlights that certain biometric categorisation systems, such as those inferring sensitive attributes like political opinions, religious beliefs, or sexual orientation, are prohibited under the regulation.'"
      ]
     },
     "execution_count": 25,
     "metadata": {},
     "output_type": "execute_result"
    }
   ],
   "source": [
    "def run_mistral(user_message, model=\"mistral-large-latest\"):\n",
    "    messages = [{\"role\": \"user\", \"content\": user_message}]\n",
    "    chat_response = client.chat.complete(model=model, messages=messages)\n",
    "    return chat_response.choices[0].message.content\n",
    "\n",
    "\n",
    "answer = run_mistral(prompt)"
   ]
  },
  {
   "cell_type": "markdown",
   "id": "a5969078",
   "metadata": {},
   "source": [
    "## Full Pipeline\n"
   ]
  },
  {
   "cell_type": "code",
   "execution_count": null,
   "id": "296cfe0e",
   "metadata": {},
   "outputs": [],
   "source": []
  },
  {
   "cell_type": "markdown",
   "id": "6c7007f2",
   "metadata": {},
   "source": [
    "## Evaluation\n"
   ]
  },
  {
   "cell_type": "markdown",
   "id": "d953d1b1",
   "metadata": {},
   "source": []
  },
  {
   "cell_type": "code",
   "execution_count": 38,
   "id": "74e1ce01",
   "metadata": {},
   "outputs": [
    {
     "data": {
      "text/plain": [
       "(50,\n",
       " {'producer': 'PDFlib+PDI 9.0.7p3 (C++/Win64)',\n",
       "  'creator': 'Servigistics Arbortext Publishing Engine',\n",
       "  'creationdate': '2024-07-11T14:47:17+02:00',\n",
       "  'author': 'Publications Office of the European Union L-2985 Luxembourg LUXEMBOURG',\n",
       "  'keywords': 'ISSN 1977-0677',\n",
       "  'moddate': '2024-07-11T15:55:28+02:00',\n",
       "  'subject': 'I Legislative acts',\n",
       "  'title': 'Regulation (EU) 2024/1689 of the European Parliament and of the Council of 13 June 2024 laying down harmonised rules on artificial intelligence and amending Regulations (EC) No 300/2008, (EU) No 167/2013, (EU) No 168/2013, (EU) 2018/858, (EU) 2018/1139 and (EU) 2019/2144 and Directives 2014/90/EU, (EU) 2016/797 and (EU) 2020/1828 (Artificial Intelligence Act)Text with EEA relevance.',\n",
       "  'source': 'ai_act.pdf#page=0',\n",
       "  'total_pages': 144,\n",
       "  'page': 0,\n",
       "  'page_label': '1'})"
      ]
     },
     "execution_count": 38,
     "metadata": {},
     "output_type": "execute_result"
    }
   ],
   "source": [
    "# Build chunk documents with page-aware metadata for citations\n",
    "import sys, subprocess\n",
    "from pathlib import Path\n",
    "from langchain_community.document_loaders import PyPDFLoader\n",
    "from langchain_text_splitters import RecursiveCharacterTextSplitter\n",
    "\n",
    "pdf_file = Path(\"data/ai_act.pdf\")\n",
    "loader = PyPDFLoader(str(pdf_file))\n",
    "page_docs = loader.load()\n",
    "\n",
    "# Stamp a stable citation string on each page\n",
    "documents_with_source = []\n",
    "for d in page_docs:\n",
    "    d.metadata[\"source\"] = f\"{pdf_file.name}#page={d.metadata.get('page', 'NA')}\"\n",
    "    documents_with_source.append(d)\n",
    "\n",
    "splitter_docs = RecursiveCharacterTextSplitter(\n",
    "    chunk_size=1200,\n",
    "    chunk_overlap=200,\n",
    "    separators=[\"\\n\\n\", \"\\n\", \" \", \"\", \".\", \"?\", \"!\"],\n",
    ")\n",
    "chunk_docs = splitter_docs.split_documents(documents_with_source)\n",
    "\n",
    "# Create a sample of the first 50 chunks\n",
    "sample_chunk_docs = chunk_docs[:50]\n",
    "\n",
    "doc_texts = [d.page_content for d in sample_chunk_docs]\n",
    "doc_metas = [d.metadata for d in sample_chunk_docs]\n",
    "doc_sources = [m.get(\"source\", \"unknown\") for m in doc_metas]\n",
    "\n",
    "len(sample_chunk_docs), doc_metas[0] if doc_metas else {}"
   ]
  },
  {
   "cell_type": "code",
   "execution_count": null,
   "id": "ef28d8ef",
   "metadata": {},
   "outputs": [],
   "source": [
    "def get_text_embedding(input):\n",
    "    embeddings_batch_response = client.embeddings.create(\n",
    "        model=\"mistral-embed\", inputs=input\n",
    "    )\n",
    "    return embeddings_batch_response.data[0].embedding\n",
    "\n",
    "\n",
    "# Embed each chunk's text content (not the document object itself)\n",
    "text_embeddings = np.array(\n",
    "    [get_text_embedding(chunk.page_content) for chunk in sample_chunk_docs]\n",
    ")"
   ]
  },
  {
   "cell_type": "code",
   "execution_count": 40,
   "id": "1486cdfe",
   "metadata": {},
   "outputs": [],
   "source": [
    "import faiss\n",
    "\n",
    "# Build vector search index for semantic similarity\n",
    "embedding_dimension = text_embeddings.shape[1]\n",
    "similarity_index = faiss.IndexFlatL2(embedding_dimension)\n",
    "similarity_index.add(text_embeddings)"
   ]
  },
  {
   "cell_type": "code",
   "execution_count": null,
   "id": "bc919183",
   "metadata": {},
   "outputs": [
    {
     "data": {
      "text/plain": [
       "(['(16) The notion of ‘biometr ic catego r isation’ refer red to in this Regulation should be def ined as assigning natural persons \\nt o specif ic cate gor ies on the basis of their biometr ic data. Such specif ic catego r ies can relate to aspects suc h as sex, \\nag e, hair colour , e ye colour , tattoos, behavio ural or personality traits, languag e, religion, membership of a national \\nminor ity , sexual or political or ientation. This does not include biometr ic catego r isation systems that are a purely \\nancillar y f eature intr insically linked to another commercial ser vice, meaning that the f eature cannot, f or objective \\nt echnical reasons, be used without the pr incipal ser vice, and the inte gration of that feature or functionality is not \\na means to circum vent the applicability of the r ules of this Regulation. For example, filters cate gor ising f acial or body \\nf eatures used on online marke tplaces could constitute suc h an ancillar y f eature as they can be used only in relation to \\nthe pr incipal ser vice which consists in selling a product by allowing the consumer to preview the displa y of the',\n",
       "  'as defined in Ar ticle 4, point (14) of Regulation (EU) 2016/679, Ar ticle 3, point (18) of Regulation (EU) 2018/1725 \\nand Ar ticle 3, point (13) of Directive (EU) 2016/680. Biometr ic data can allo w f or the authentication, identification \\nor cate gor isation of natural persons and f or the recognition of emotions of natural persons.\\n(15) The notion of ‘biometr ic identifi cation’ refe r red to in this Regulation should be def ined as the auto mated recognition \\nof physical, physiological and behavi oural human features such as the f ace, ey e move ment, body shape, v oice, \\nprosody , g ait, posture, hear t rate, blood pressure, odour , k eystrok es ch aracter istics, f or the pur pose of establishing an \\nindividual’s identity b y compari ng biometr ic data of that individual to stored biometr ic data of individuals in \\na refere nce database, ir respective of whether the individual has given its consent or not. This ex cludes AI syste ms \\ninte nded to be used f or biometr ic ver ificati on, which includes authentication, whose sole pur pose is to confi r m that',\n",
       "  'biometr ic identifica tion systems are typically used to perceive multiple persons or their behavio ur simultaneously in \\norder t o f acilitate signif icantly the identification of natural persons without their active inv olvement. This ex cludes \\nAI syste ms inte nded t o be used f or biometr ic ver if ication, which includes authentication, the sole pur pose of which \\nis to confi r m that a specif ic natural person is the person he or she claims to be and to confi r m the identity of \\na natural person f or the sole pur pose of hav ing access to a ser vice, unloc king a device or hav ing secur ity access to \\npremises. That exclusion is justified b y the f act that suc h syste ms are like ly to hav e a minor imp act on fundamental \\nr ights of natural persons comp ared to the remote biometr ic identifi cation syste ms which ma y be used f or the \\nprocessing of the biometr ic data of a larg e number of persons without their active in v olvement. In the case of \\n‘real-time’ syste ms, the captu r ing of the biometr ic data, the comp ar ison and the identifi cation occur all'],\n",
       " ['ai_act.pdf#page=4', 'ai_act.pdf#page=3', 'ai_act.pdf#page=4'])"
      ]
     },
     "execution_count": 41,
     "metadata": {},
     "output_type": "execute_result"
    }
   ],
   "source": [
    "# Retrieval helper that returns texts + sources\n",
    "from typing import List, Tuple\n",
    "\n",
    "\n",
    "def retrieve(query: str, k: int = 4) -> Tuple[List[str], List[str]]:\n",
    "    q_emb = np.array([get_text_embedding(user_question)])\n",
    "    distances, idxs = similarity_index.search(q_emb.astype(np.float32), k)\n",
    "    idxs = idxs[0]\n",
    "    texts = [doc_texts[i] for i in idxs]\n",
    "    sources = [doc_sources[i] for i in idxs]\n",
    "    return texts, sources\n",
    "\n",
    "\n",
    "retrieve(\"What is biometric categorisation?\", k=3)"
   ]
  },
  {
   "cell_type": "code",
   "execution_count": null,
   "id": "1c5246c6",
   "metadata": {},
   "outputs": [
    {
     "name": "stdout",
     "output_type": "stream",
     "text": [
      "Biometric categorisation refers to the process of assigning natural persons to specific categories based on their biometric data. These categories can include aspects such as sex, age, hair colour, eye colour, tattoos, behavioural or personality traits, language, religion, membership of a national minority, or sexual or political orientation. However, this does not include biometric categorisation systems that are purely ancillary features intrinsically linked to another commercial service, where the feature cannot be used independently for technical reasons.\n",
      "\n",
      "**Sources:**\n",
      "- Context (16)\n",
      "\n",
      "Sources:\n",
      "- ai_act.pdf#page=4\n",
      "- ai_act.pdf#page=3\n"
     ]
    }
   ],
   "source": [
    "# Generation with inline context and a Sources footer\n",
    "\n",
    "\n",
    "def answer_with_citations(question: str, model=\"mistral-large-latest\", k: int = 4):\n",
    "    contexts, sources = retrieve(question, k=k)\n",
    "    context_block = \"\\n\\n---\\n\\n\".join(contexts)\n",
    "    prompt = f\"\"\"\n",
    "You are an AI Assistant specialised in Conformity & Regulation.\n",
    "Answer the user's question concisely using ONLY the provided context. If unsure, say you don't know.\n",
    "\n",
    "Context:\n",
    "---------------------\n",
    "{context_block}\n",
    "---------------------\n",
    "Question: {question}\n",
    "Answer with a short paragraph. Then provide a 'Sources' section listing the citations.\n",
    "\"\"\"\n",
    "    messages = [{\"role\": \"user\", \"content\": prompt}]\n",
    "    chat_response = client.chat.complete(model=model, messages=messages)\n",
    "    answer = chat_response.choices[0].message.content\n",
    "\n",
    "    # Deduplicate and sort sources for readability\n",
    "    unique_sources = []\n",
    "    for s in sources:\n",
    "        if s not in unique_sources:\n",
    "            unique_sources.append(s)\n",
    "    sources_footer = \"\\n\".join(f\"- {s}\" for s in unique_sources)\n",
    "\n",
    "    return f\"{answer}\\n\\nSources:\\n{sources_footer}\"\n",
    "\n",
    "\n",
    "print(answer_with_citations(\"What is biometric categorisation?\", k=3))"
   ]
  }
 ],
 "metadata": {
  "kernelspec": {
   "display_name": ".venv",
   "language": "python",
   "name": "python3"
  },
  "language_info": {
   "codemirror_mode": {
    "name": "ipython",
    "version": 3
   },
   "file_extension": ".py",
   "mimetype": "text/x-python",
   "name": "python",
   "nbconvert_exporter": "python",
   "pygments_lexer": "ipython3",
   "version": "3.12.11"
  }
 },
 "nbformat": 4,
 "nbformat_minor": 5
}
